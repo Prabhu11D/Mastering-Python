{
 "cells": [
  {
   "cell_type": "code",
   "execution_count": null,
   "id": "3a07c91f",
   "metadata": {},
   "outputs": [],
   "source": [
    "import pandas as pd"
   ]
  },
  {
   "cell_type": "code",
   "execution_count": null,
   "id": "57b063ab",
   "metadata": {},
   "outputs": [],
   "source": [
    "air_quality_no2 = pd.read_csv(\"datasets/air_quality_no2_long.csv\", parse_dates=True)"
   ]
  },
  {
   "cell_type": "code",
   "execution_count": null,
   "id": "0c6ac9bf",
   "metadata": {},
   "outputs": [],
   "source": [
    "air_quality_no2 = air_quality_no2[[\"date.utc\", \"location\", \"parameter\", \"value\"]]"
   ]
  },
  {
   "cell_type": "code",
   "execution_count": null,
   "id": "59ba28f9",
   "metadata": {},
   "outputs": [],
   "source": [
    "air_quality_no2.head()"
   ]
  },
  {
   "cell_type": "code",
   "execution_count": null,
   "id": "cfd0d2c8",
   "metadata": {},
   "outputs": [],
   "source": [
    "air_quality_pm25 = pd.read_csv(\"datasets/air_quality_pm25_long.csv\", parse_dates=True)"
   ]
  },
  {
   "cell_type": "code",
   "execution_count": null,
   "id": "aaed8380",
   "metadata": {},
   "outputs": [],
   "source": [
    "air_quality_pm25 = air_quality_pm25[[\"date.utc\", \"location\", \"parameter\", \"value\"]]"
   ]
  },
  {
   "cell_type": "code",
   "execution_count": null,
   "id": "b02af9cc",
   "metadata": {},
   "outputs": [],
   "source": [
    "air_quality_pm25.head()"
   ]
  },
  {
   "cell_type": "markdown",
   "id": "2ab2c665",
   "metadata": {},
   "source": [
    "### How to combine data from multiple tables"
   ]
  },
  {
   "cell_type": "code",
   "execution_count": null,
   "id": "6ac7f42e",
   "metadata": {},
   "outputs": [],
   "source": [
    "air_quality = pd.concat([air_quality_pm25, air_quality_no2], axis=0)"
   ]
  },
  {
   "cell_type": "code",
   "execution_count": null,
   "id": "b2e7a343",
   "metadata": {},
   "outputs": [],
   "source": [
    "air_quality.tail()"
   ]
  },
  {
   "cell_type": "code",
   "execution_count": null,
   "id": "dbf49812",
   "metadata": {},
   "outputs": [],
   "source": [
    "air_quality.shape"
   ]
  },
  {
   "cell_type": "code",
   "execution_count": null,
   "id": "2bb8a5d6",
   "metadata": {},
   "outputs": [],
   "source": [
    "air_quality_no2.shape"
   ]
  },
  {
   "cell_type": "code",
   "execution_count": null,
   "id": "45e22148",
   "metadata": {},
   "outputs": [],
   "source": [
    "air_quality_pm25.shape"
   ]
  },
  {
   "cell_type": "code",
   "execution_count": null,
   "id": "5451392f",
   "metadata": {},
   "outputs": [],
   "source": [
    "air_quality_ = pd.concat([air_quality_pm25, air_quality_no2], keys=[\"PM25\", \"NO2\"])"
   ]
  },
  {
   "cell_type": "code",
   "execution_count": null,
   "id": "c8600f3c",
   "metadata": {},
   "outputs": [],
   "source": [
    "air_quality_.tail()"
   ]
  }
 ],
 "metadata": {
  "kernelspec": {
   "display_name": "Python 3 (ipykernel)",
   "language": "python",
   "name": "python3"
  },
  "language_info": {
   "codemirror_mode": {
    "name": "ipython",
    "version": 3
   },
   "file_extension": ".py",
   "mimetype": "text/x-python",
   "name": "python",
   "nbconvert_exporter": "python",
   "pygments_lexer": "ipython3",
   "version": "3.9.6"
  }
 },
 "nbformat": 4,
 "nbformat_minor": 5
}
