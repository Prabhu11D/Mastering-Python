{
 "cells": [
  {
   "cell_type": "code",
   "execution_count": null,
   "id": "0b954331",
   "metadata": {},
   "outputs": [],
   "source": [
    "import pandas as pd"
   ]
  },
  {
   "cell_type": "code",
   "execution_count": null,
   "id": "186a07aa",
   "metadata": {},
   "outputs": [],
   "source": [
    "titanic = pd.read_csv(\"datasets/titanic.csv\")"
   ]
  },
  {
   "cell_type": "code",
   "execution_count": null,
   "id": "2cc7a01d",
   "metadata": {},
   "outputs": [],
   "source": [
    "titanic.head()"
   ]
  },
  {
   "cell_type": "code",
   "execution_count": null,
   "id": "097ca33d",
   "metadata": {},
   "outputs": [],
   "source": [
    "air_quality = pd.read_csv(\"datasets/air_quality_long.csv\", index_col=\"date.utc\", parse_dates=True)"
   ]
  },
  {
   "cell_type": "code",
   "execution_count": null,
   "id": "204e1701",
   "metadata": {},
   "outputs": [],
   "source": [
    "air_quality.head()"
   ]
  },
  {
   "cell_type": "markdown",
   "id": "4551ffbe",
   "metadata": {},
   "source": [
    "### Sort table rows"
   ]
  },
  {
   "cell_type": "code",
   "execution_count": null,
   "id": "18b6dfd3",
   "metadata": {},
   "outputs": [],
   "source": [
    "titanic.sort_values(by=\"Age\").head()"
   ]
  },
  {
   "cell_type": "code",
   "execution_count": null,
   "id": "2a1cdf7a",
   "metadata": {},
   "outputs": [],
   "source": [
    "titanic.sort_values(by=[\"Pclass\", \"Age\"], ascending=False).head()"
   ]
  },
  {
   "cell_type": "markdown",
   "id": "3d55594c",
   "metadata": {},
   "source": [
    "### Long to wide table format"
   ]
  },
  {
   "cell_type": "code",
   "execution_count": null,
   "id": "bd54283d",
   "metadata": {},
   "outputs": [],
   "source": [
    "air_quality.head(10)"
   ]
  },
  {
   "cell_type": "code",
   "execution_count": null,
   "id": "68013429",
   "metadata": {},
   "outputs": [],
   "source": [
    "no2 = air_quality[air_quality[\"parameter\"] == \"no2\"]"
   ]
  },
  {
   "cell_type": "code",
   "execution_count": null,
   "id": "610a8702",
   "metadata": {},
   "outputs": [],
   "source": [
    "no2_subset = no2.sort_index().groupby([\"location\"]).head()"
   ]
  },
  {
   "cell_type": "code",
   "execution_count": null,
   "id": "ab440b70",
   "metadata": {},
   "outputs": [],
   "source": [
    "no2_subset.pivot(columns=\"location\", values=\"value\")"
   ]
  },
  {
   "cell_type": "code",
   "execution_count": null,
   "id": "fd860966",
   "metadata": {},
   "outputs": [],
   "source": [
    "# The pivot() function is purely reshaping of the data: a single value for each index/column combination is required."
   ]
  },
  {
   "cell_type": "code",
   "execution_count": null,
   "id": "378f3126",
   "metadata": {},
   "outputs": [],
   "source": [
    "no2.pivot(columns=\"location\", values=\"value\").plot()"
   ]
  },
  {
   "cell_type": "markdown",
   "id": "58b522b8",
   "metadata": {},
   "source": [
    "### Pivot Table"
   ]
  },
  {
   "cell_type": "code",
   "execution_count": null,
   "id": "d6db3646",
   "metadata": {},
   "outputs": [],
   "source": [
    "air_quality.pivot_table(\n",
    "    values=\"value\", index=\"location\", columns=\"parameter\", aggfunc=\"mean\"\n",
    ")"
   ]
  },
  {
   "cell_type": "code",
   "execution_count": null,
   "id": "1159ba68",
   "metadata": {},
   "outputs": [],
   "source": [
    "air_quality.pivot_table(\n",
    "    values=\"value\",\n",
    "    index=\"location\",\n",
    "    columns=\"parameter\",\n",
    "    aggfunc=\"mean\",\n",
    "    margins=True\n",
    ")"
   ]
  },
  {
   "cell_type": "code",
   "execution_count": null,
   "id": "5480e46a",
   "metadata": {},
   "outputs": [],
   "source": [
    "air_quality.groupby([\"parameter\", \"location\"]).mean()"
   ]
  },
  {
   "cell_type": "markdown",
   "id": "8fd645b6",
   "metadata": {},
   "source": [
    "### Wide to long format"
   ]
  },
  {
   "cell_type": "code",
   "execution_count": null,
   "id": "58e243f4",
   "metadata": {},
   "outputs": [],
   "source": [
    "no2_pivoted = no2.pivot(columns=\"location\", values=\"value\").reset_index()"
   ]
  },
  {
   "cell_type": "code",
   "execution_count": null,
   "id": "3034453e",
   "metadata": {},
   "outputs": [],
   "source": [
    "no2_pivoted.head()"
   ]
  },
  {
   "cell_type": "code",
   "execution_count": null,
   "id": "714ec157",
   "metadata": {},
   "outputs": [],
   "source": [
    "no_2 = no2_pivoted.melt(id_vars=\"date.utc\")"
   ]
  },
  {
   "cell_type": "code",
   "execution_count": null,
   "id": "eee19dea",
   "metadata": {},
   "outputs": [],
   "source": [
    "no_2.head()"
   ]
  }
 ],
 "metadata": {
  "kernelspec": {
   "display_name": "Python 3 (ipykernel)",
   "language": "python",
   "name": "python3"
  },
  "language_info": {
   "codemirror_mode": {
    "name": "ipython",
    "version": 3
   },
   "file_extension": ".py",
   "mimetype": "text/x-python",
   "name": "python",
   "nbconvert_exporter": "python",
   "pygments_lexer": "ipython3",
   "version": "3.9.6"
  }
 },
 "nbformat": 4,
 "nbformat_minor": 5
}
