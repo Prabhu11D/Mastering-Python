{
 "cells": [
  {
   "cell_type": "code",
   "execution_count": null,
   "id": "398db536",
   "metadata": {},
   "outputs": [],
   "source": [
    "import pandas as pd\n",
    "import matplotlib.pyplot as plt"
   ]
  },
  {
   "cell_type": "code",
   "execution_count": null,
   "id": "30fcceea",
   "metadata": {},
   "outputs": [],
   "source": [
    "air_quality = pd.read_csv(\"datasets/air_quality_no2_long.csv\")"
   ]
  },
  {
   "cell_type": "code",
   "execution_count": null,
   "id": "945b4d72",
   "metadata": {},
   "outputs": [],
   "source": [
    "air_quality = air_quality.rename(columns={\"date.utc\" : \"datetime\"})"
   ]
  },
  {
   "cell_type": "code",
   "execution_count": null,
   "id": "1af18ecf",
   "metadata": {},
   "outputs": [],
   "source": [
    "air_quality.head()"
   ]
  },
  {
   "cell_type": "code",
   "execution_count": null,
   "id": "2b0af924",
   "metadata": {},
   "outputs": [],
   "source": [
    "air_quality.city.unique()"
   ]
  },
  {
   "cell_type": "code",
   "execution_count": null,
   "id": "49b4f0c3",
   "metadata": {},
   "outputs": [],
   "source": [
    "air_quality[\"datetime\"] = pd.to_datetime(air_quality[\"datetime\"])"
   ]
  },
  {
   "cell_type": "code",
   "execution_count": null,
   "id": "1c60a913",
   "metadata": {},
   "outputs": [],
   "source": [
    "air_quality[\"datetime\"]"
   ]
  },
  {
   "cell_type": "code",
   "execution_count": null,
   "id": "e4e6b015",
   "metadata": {},
   "outputs": [],
   "source": [
    "air_quality[\"datetime\"].min()"
   ]
  },
  {
   "cell_type": "code",
   "execution_count": null,
   "id": "32d86ad0",
   "metadata": {},
   "outputs": [],
   "source": [
    "air_quality[\"datetime\"].max()"
   ]
  },
  {
   "cell_type": "code",
   "execution_count": null,
   "id": "da2f15e2",
   "metadata": {},
   "outputs": [],
   "source": [
    "diff_time = air_quality[\"datetime\"].max() - air_quality[\"datetime\"].min()"
   ]
  },
  {
   "cell_type": "code",
   "execution_count": null,
   "id": "4daac041",
   "metadata": {},
   "outputs": [],
   "source": [
    "diff_time, type(diff_time)"
   ]
  },
  {
   "cell_type": "code",
   "execution_count": null,
   "id": "374952f5",
   "metadata": {},
   "outputs": [],
   "source": [
    "air_quality[\"month\"] = air_quality[\"datetime\"].dt.month"
   ]
  },
  {
   "cell_type": "code",
   "execution_count": null,
   "id": "a1c431fe",
   "metadata": {},
   "outputs": [],
   "source": [
    "air_quality.tail()"
   ]
  },
  {
   "cell_type": "code",
   "execution_count": null,
   "id": "73a934f7",
   "metadata": {},
   "outputs": [],
   "source": [
    "air_quality.groupby([air_quality[\"datetime\"].dt.weekday, \"location\"])[\"value\"].mean()"
   ]
  },
  {
   "cell_type": "code",
   "execution_count": null,
   "id": "07f7f6f5",
   "metadata": {},
   "outputs": [],
   "source": [
    "fig, axs = plt.subplots(figsize=(12, 4))\n",
    "\n",
    "air_quality.groupby(air_quality[\"datetime\"].dt.hour)[\"value\"].mean().plot(kind=\"bar\", rot=0, ax=axs)\n",
    "\n",
    "plt.xlabel(\"Hour of the day\")\n",
    "plt.ylabel(\"$NO_2 (ug/m^3)$\")"
   ]
  },
  {
   "cell_type": "markdown",
   "id": "c5a09ce9",
   "metadata": {},
   "source": [
    "### Datetime as Index"
   ]
  },
  {
   "cell_type": "code",
   "execution_count": null,
   "id": "a3b55b55",
   "metadata": {},
   "outputs": [],
   "source": [
    "no_2 = air_quality.pivot(index=\"datetime\", columns=\"location\", values=\"value\")"
   ]
  },
  {
   "cell_type": "code",
   "execution_count": null,
   "id": "747826e9",
   "metadata": {},
   "outputs": [],
   "source": [
    "no_2.head()"
   ]
  },
  {
   "cell_type": "code",
   "execution_count": null,
   "id": "a1f78fa2",
   "metadata": {},
   "outputs": [],
   "source": [
    "no_2.index.year, no_2.index.weekday"
   ]
  },
  {
   "cell_type": "code",
   "execution_count": null,
   "id": "f02cd7ea",
   "metadata": {},
   "outputs": [],
   "source": [
    "no_2[\"2019-05-20\":\"2019-05-21\"].plot();"
   ]
  },
  {
   "cell_type": "markdown",
   "id": "c95f4617",
   "metadata": {},
   "source": [
    "### Resample a time series to another frequency"
   ]
  },
  {
   "cell_type": "code",
   "execution_count": null,
   "id": "c9538f22",
   "metadata": {},
   "outputs": [],
   "source": [
    "monthly_max = no_2.resample(\"M\").max()"
   ]
  },
  {
   "cell_type": "code",
   "execution_count": null,
   "id": "24c32248",
   "metadata": {
    "scrolled": true
   },
   "outputs": [],
   "source": [
    "monthly_max"
   ]
  },
  {
   "cell_type": "code",
   "execution_count": null,
   "id": "e6559a3d",
   "metadata": {},
   "outputs": [],
   "source": [
    "monthly_max.index.freq"
   ]
  },
  {
   "cell_type": "code",
   "execution_count": null,
   "id": "e186d636",
   "metadata": {},
   "outputs": [],
   "source": [
    "no_2.resample(\"D\").mean().plot(style=\"-o\", figsize=(10, 5));"
   ]
  },
  {
   "cell_type": "code",
   "execution_count": null,
   "id": "fe8ba03e",
   "metadata": {},
   "outputs": [],
   "source": []
  }
 ],
 "metadata": {
  "kernelspec": {
   "display_name": "Python 3 (ipykernel)",
   "language": "python",
   "name": "python3"
  },
  "language_info": {
   "codemirror_mode": {
    "name": "ipython",
    "version": 3
   },
   "file_extension": ".py",
   "mimetype": "text/x-python",
   "name": "python",
   "nbconvert_exporter": "python",
   "pygments_lexer": "ipython3",
   "version": "3.9.6"
  }
 },
 "nbformat": 4,
 "nbformat_minor": 5
}
