{
 "cells": [
  {
   "cell_type": "code",
   "execution_count": null,
   "id": "a2be2d41",
   "metadata": {},
   "outputs": [],
   "source": [
    "import pandas as pd\n",
    "import matplotlib.pyplot as plt"
   ]
  },
  {
   "cell_type": "code",
   "execution_count": null,
   "id": "b68d0b4e",
   "metadata": {},
   "outputs": [],
   "source": [
    "air_quality = pd.read_csv(\"datasets/air_quality.csv\", index_col=0, parse_dates=True)"
   ]
  },
  {
   "cell_type": "code",
   "execution_count": null,
   "id": "264c6089",
   "metadata": {},
   "outputs": [],
   "source": [
    "air_quality.head()"
   ]
  },
  {
   "cell_type": "code",
   "execution_count": null,
   "id": "fc63bdef",
   "metadata": {},
   "outputs": [],
   "source": [
    "air_quality.plot()"
   ]
  },
  {
   "cell_type": "code",
   "execution_count": null,
   "id": "ab4aa76b",
   "metadata": {},
   "outputs": [],
   "source": [
    "air_quality[\"station_paris\"].plot()"
   ]
  },
  {
   "cell_type": "code",
   "execution_count": null,
   "id": "7d494354",
   "metadata": {},
   "outputs": [],
   "source": [
    "air_quality.plot.scatter(x=\"station_london\", y=\"station_paris\", alpha=0.5)"
   ]
  },
  {
   "cell_type": "code",
   "execution_count": null,
   "id": "a08cf5a2",
   "metadata": {},
   "outputs": [],
   "source": [
    "# available plots\n",
    "[method_name for method_name in dir(air_quality.plot) if not method_name.startswith(\"_\")]"
   ]
  },
  {
   "cell_type": "code",
   "execution_count": null,
   "id": "a99fde12",
   "metadata": {},
   "outputs": [],
   "source": [
    "air_quality.plot.box()"
   ]
  },
  {
   "cell_type": "code",
   "execution_count": null,
   "id": "4b086007",
   "metadata": {},
   "outputs": [],
   "source": [
    "axs = air_quality.plot.area(figsize=(12, 4), subplots=True)"
   ]
  },
  {
   "cell_type": "code",
   "execution_count": null,
   "id": "d75a8c68",
   "metadata": {},
   "outputs": [],
   "source": [
    "fig, axs = plt.subplots(figsize=(12, 4))\n",
    "\n",
    "air_quality.plot.area(ax=axs)"
   ]
  },
  {
   "cell_type": "code",
   "execution_count": null,
   "id": "4ed86991",
   "metadata": {},
   "outputs": [],
   "source": [
    "axs.set_ylabel(\"N0$_2$ concentration\")"
   ]
  },
  {
   "cell_type": "code",
   "execution_count": null,
   "id": "8fa50f84",
   "metadata": {},
   "outputs": [],
   "source": [
    "fig.savefig(\"fig/no2_concentrations.png\")"
   ]
  },
  {
   "cell_type": "code",
   "execution_count": null,
   "id": "ed261900",
   "metadata": {},
   "outputs": [],
   "source": []
  }
 ],
 "metadata": {
  "kernelspec": {
   "display_name": "Python 3 (ipykernel)",
   "language": "python",
   "name": "python3"
  },
  "language_info": {
   "codemirror_mode": {
    "name": "ipython",
    "version": 3
   },
   "file_extension": ".py",
   "mimetype": "text/x-python",
   "name": "python",
   "nbconvert_exporter": "python",
   "pygments_lexer": "ipython3",
   "version": "3.9.6"
  }
 },
 "nbformat": 4,
 "nbformat_minor": 5
}
