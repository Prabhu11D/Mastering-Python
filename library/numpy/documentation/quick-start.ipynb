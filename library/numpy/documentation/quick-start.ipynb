{
 "cells": [
  {
   "cell_type": "markdown",
   "id": "773a87e0",
   "metadata": {},
   "source": [
    "# [Numpy Quickstart](https://numpy.org/doc/stable/user/quickstart.html#)"
   ]
  },
  {
   "cell_type": "markdown",
   "id": "635f4b43",
   "metadata": {},
   "source": [
    "## Terms"
   ]
  },
  {
   "cell_type": "markdown",
   "id": "d0b2e72c",
   "metadata": {},
   "source": [
    "- axes - dimensions\n",
    "- length - number of elements\n",
    "- ndarray - array. this array is not as python array which as one dimension"
   ]
  },
  {
   "cell_type": "code",
   "execution_count": null,
   "id": "263f422e",
   "metadata": {},
   "outputs": [],
   "source": [
    "import numpy as np"
   ]
  },
  {
   "cell_type": "markdown",
   "id": "8c652eb9",
   "metadata": {},
   "source": [
    "# The Basics"
   ]
  },
  {
   "cell_type": "markdown",
   "id": "71283eac",
   "metadata": {},
   "source": [
    "### Array Creation"
   ]
  },
  {
   "cell_type": "code",
   "execution_count": null,
   "id": "042f4d2c",
   "metadata": {},
   "outputs": [],
   "source": [
    "a = np.array([[1,2,3], [4,5,6]])"
   ]
  },
  {
   "cell_type": "code",
   "execution_count": null,
   "id": "ca06eff1",
   "metadata": {},
   "outputs": [],
   "source": [
    "type(a)"
   ]
  },
  {
   "cell_type": "code",
   "execution_count": null,
   "id": "e9293347",
   "metadata": {},
   "outputs": [],
   "source": [
    "a.size"
   ]
  },
  {
   "cell_type": "code",
   "execution_count": null,
   "id": "8bf6d165",
   "metadata": {},
   "outputs": [],
   "source": [
    "a.dtype"
   ]
  },
  {
   "cell_type": "code",
   "execution_count": null,
   "id": "588df54b",
   "metadata": {},
   "outputs": [],
   "source": [
    "a.itemsize"
   ]
  },
  {
   "cell_type": "code",
   "execution_count": null,
   "id": "51a18688",
   "metadata": {},
   "outputs": [],
   "source": [
    "a.shape"
   ]
  },
  {
   "cell_type": "code",
   "execution_count": null,
   "id": "783f1ce9",
   "metadata": {},
   "outputs": [],
   "source": [
    "# Array can be created using python list or tuple\n",
    "np.array((1,2))"
   ]
  },
  {
   "cell_type": "code",
   "execution_count": null,
   "id": "d4499459",
   "metadata": {},
   "outputs": [],
   "source": [
    "np.array(((1,2), (3,4)), dtype='complex')"
   ]
  },
  {
   "cell_type": "code",
   "execution_count": null,
   "id": "421f2557",
   "metadata": {},
   "outputs": [],
   "source": [
    "# creates zeros for specified shape\n",
    "np.zeros((2,4)).dtype"
   ]
  },
  {
   "cell_type": "code",
   "execution_count": null,
   "id": "a1d2d04f",
   "metadata": {},
   "outputs": [],
   "source": [
    "np.zeros((2,4), dtype=np.int16).dtype"
   ]
  },
  {
   "cell_type": "code",
   "execution_count": null,
   "id": "d9cc7f69",
   "metadata": {},
   "outputs": [],
   "source": [
    "# creates a random values\n",
    "np.empty((1,10))"
   ]
  },
  {
   "cell_type": "code",
   "execution_count": null,
   "id": "f997b5b1",
   "metadata": {},
   "outputs": [],
   "source": [
    "# creating ranges with step size\n",
    "np.arange(10,20,4)"
   ]
  },
  {
   "cell_type": "code",
   "execution_count": null,
   "id": "d67716e4",
   "metadata": {},
   "outputs": [],
   "source": [
    "# create ranges with how many steps\n",
    "np.linspace(10,20,4)"
   ]
  },
  {
   "cell_type": "markdown",
   "id": "340b931d",
   "metadata": {},
   "source": [
    "### Printing Array"
   ]
  },
  {
   "cell_type": "code",
   "execution_count": null,
   "id": "4d8bba2f",
   "metadata": {},
   "outputs": [],
   "source": [
    "# 1D\n",
    "np.arange(6)"
   ]
  },
  {
   "cell_type": "code",
   "execution_count": null,
   "id": "7d4f5306",
   "metadata": {},
   "outputs": [],
   "source": [
    "# 2D\n",
    "np.arange(12).reshape(4, 3)"
   ]
  },
  {
   "cell_type": "code",
   "execution_count": null,
   "id": "2b4ba730",
   "metadata": {},
   "outputs": [],
   "source": [
    "# 3D\n",
    "np.arange(24).reshape(2, 3, 4)"
   ]
  },
  {
   "cell_type": "code",
   "execution_count": null,
   "id": "33a78402",
   "metadata": {},
   "outputs": [],
   "source": [
    "# for larger values it prints ...\n",
    "np.arange(10000)"
   ]
  },
  {
   "cell_type": "code",
   "execution_count": null,
   "id": "8216ed55",
   "metadata": {},
   "outputs": [],
   "source": [
    "np.arange(10000).reshape(100, 100)"
   ]
  },
  {
   "cell_type": "code",
   "execution_count": null,
   "id": "f57a6094",
   "metadata": {},
   "outputs": [],
   "source": [
    "# np.set_printoptions(threshold=sys.maxsize)  # sys module should be imported"
   ]
  },
  {
   "cell_type": "markdown",
   "id": "506160aa",
   "metadata": {},
   "source": [
    "### Basic Operations"
   ]
  },
  {
   "cell_type": "code",
   "execution_count": null,
   "id": "ca8b415b",
   "metadata": {},
   "outputs": [],
   "source": [
    "a = np.array([1,2,3])\n",
    "b = np.array([2,3,4])"
   ]
  },
  {
   "cell_type": "code",
   "execution_count": null,
   "id": "70ccc6eb",
   "metadata": {},
   "outputs": [],
   "source": [
    "a + b"
   ]
  },
  {
   "cell_type": "code",
   "execution_count": null,
   "id": "c07bdc63",
   "metadata": {},
   "outputs": [],
   "source": [
    "a - b"
   ]
  },
  {
   "cell_type": "code",
   "execution_count": null,
   "id": "f432e9ce",
   "metadata": {},
   "outputs": [],
   "source": [
    "a * 10"
   ]
  },
  {
   "cell_type": "code",
   "execution_count": null,
   "id": "6934cdcb",
   "metadata": {},
   "outputs": [],
   "source": [
    "a > 1"
   ]
  },
  {
   "cell_type": "code",
   "execution_count": null,
   "id": "a4d8c531",
   "metadata": {},
   "outputs": [],
   "source": [
    "m1 = np.array([[1,2], [3,4]])\n",
    "m2 = np.array([[4,4], [6,6]])"
   ]
  },
  {
   "cell_type": "code",
   "execution_count": null,
   "id": "b5ba310d",
   "metadata": {},
   "outputs": [],
   "source": [
    "# element wise product\n",
    "m1 * m2"
   ]
  },
  {
   "cell_type": "code",
   "execution_count": null,
   "id": "2cd56ecf",
   "metadata": {},
   "outputs": [],
   "source": [
    "# dot product\n",
    "m1@m2"
   ]
  },
  {
   "cell_type": "code",
   "execution_count": null,
   "id": "d4c5425b",
   "metadata": {},
   "outputs": [],
   "source": [
    "m1.dot(m2)"
   ]
  },
  {
   "cell_type": "code",
   "execution_count": null,
   "id": "f5ef6aba",
   "metadata": {},
   "outputs": [],
   "source": [
    "rg = np.random.default_rng(1)"
   ]
  },
  {
   "cell_type": "code",
   "execution_count": null,
   "id": "2458da10",
   "metadata": {},
   "outputs": [],
   "source": [
    "rg.random((2,4))"
   ]
  },
  {
   "cell_type": "code",
   "execution_count": null,
   "id": "93dba822",
   "metadata": {},
   "outputs": [],
   "source": [
    "Op = np.arange(12).reshape(3, 4)\n",
    "Op"
   ]
  },
  {
   "cell_type": "code",
   "execution_count": null,
   "id": "934e4362",
   "metadata": {},
   "outputs": [],
   "source": [
    "Op.sum(axis=0)"
   ]
  },
  {
   "cell_type": "code",
   "execution_count": null,
   "id": "8d6e4460",
   "metadata": {},
   "outputs": [],
   "source": [
    "Op.sum(axis=1)"
   ]
  },
  {
   "cell_type": "code",
   "execution_count": null,
   "id": "59e4d194",
   "metadata": {},
   "outputs": [],
   "source": [
    "Op.cumsum(axis=1)"
   ]
  },
  {
   "cell_type": "markdown",
   "id": "aee44fbd",
   "metadata": {},
   "source": [
    "### Universal Functions"
   ]
  },
  {
   "cell_type": "code",
   "execution_count": null,
   "id": "c0ca7da7",
   "metadata": {},
   "outputs": [],
   "source": [
    "fn = np.array([1,2,3])"
   ]
  },
  {
   "cell_type": "code",
   "execution_count": null,
   "id": "7e9d612f",
   "metadata": {},
   "outputs": [],
   "source": [
    "np.exp(fn)"
   ]
  },
  {
   "cell_type": "code",
   "execution_count": null,
   "id": "74b6f206",
   "metadata": {},
   "outputs": [],
   "source": [
    "np.sqrt(fn)"
   ]
  },
  {
   "cell_type": "markdown",
   "id": "42a510c6",
   "metadata": {},
   "source": [
    "### Indexing, Slicing and Iterating"
   ]
  },
  {
   "cell_type": "code",
   "execution_count": null,
   "id": "b1db68c4",
   "metadata": {},
   "outputs": [],
   "source": [
    "a = np.arange(10)**3\n",
    "a"
   ]
  },
  {
   "cell_type": "code",
   "execution_count": null,
   "id": "42a84f30",
   "metadata": {},
   "outputs": [],
   "source": [
    "a[0:6:2] = 1000\n",
    "a"
   ]
  },
  {
   "cell_type": "code",
   "execution_count": null,
   "id": "f4da3ebf",
   "metadata": {},
   "outputs": [],
   "source": [
    "def f(x,y):\n",
    "    return x + y\n",
    "\n",
    "b = np.fromfunction(f, (5,4), dtype=int)"
   ]
  },
  {
   "cell_type": "code",
   "execution_count": null,
   "id": "3e5b949a",
   "metadata": {},
   "outputs": [],
   "source": [
    "b"
   ]
  },
  {
   "cell_type": "code",
   "execution_count": null,
   "id": "57871517",
   "metadata": {},
   "outputs": [],
   "source": [
    "b[1]"
   ]
  },
  {
   "cell_type": "code",
   "execution_count": null,
   "id": "2d709344",
   "metadata": {},
   "outputs": [],
   "source": [
    "b[1:, :1][1]"
   ]
  },
  {
   "cell_type": "code",
   "execution_count": null,
   "id": "051d6977",
   "metadata": {},
   "outputs": [],
   "source": [
    "b[1,...]"
   ]
  },
  {
   "cell_type": "code",
   "execution_count": null,
   "id": "aaa97db9",
   "metadata": {},
   "outputs": [],
   "source": [
    "b[..., 2]"
   ]
  },
  {
   "cell_type": "markdown",
   "id": "f79f8407",
   "metadata": {},
   "source": [
    "## Shape Manipulation"
   ]
  },
  {
   "cell_type": "markdown",
   "id": "5728537a",
   "metadata": {},
   "source": [
    "### Changing the shape of the array"
   ]
  },
  {
   "cell_type": "code",
   "execution_count": null,
   "id": "a582bc56",
   "metadata": {},
   "outputs": [],
   "source": [
    "a = np.floor(10 * rg.random((3,4)))\n",
    "a"
   ]
  },
  {
   "cell_type": "code",
   "execution_count": null,
   "id": "de7ee16f",
   "metadata": {},
   "outputs": [],
   "source": [
    "a.shape"
   ]
  },
  {
   "cell_type": "code",
   "execution_count": null,
   "id": "7c6e97f8",
   "metadata": {},
   "outputs": [],
   "source": [
    "# to flatten an array\n",
    "a.ravel()"
   ]
  },
  {
   "cell_type": "code",
   "execution_count": null,
   "id": "1fd304a8",
   "metadata": {},
   "outputs": [],
   "source": [
    "a.reshape(6,2)"
   ]
  },
  {
   "cell_type": "code",
   "execution_count": null,
   "id": "0eb2e7be",
   "metadata": {},
   "outputs": [],
   "source": [
    "a.T"
   ]
  },
  {
   "cell_type": "code",
   "execution_count": null,
   "id": "4d668e95",
   "metadata": {},
   "outputs": [],
   "source": [
    "# C-Style ?"
   ]
  },
  {
   "cell_type": "code",
   "execution_count": null,
   "id": "c2b75a87",
   "metadata": {},
   "outputs": [],
   "source": [
    "# FORTRAN - Style ?"
   ]
  },
  {
   "cell_type": "code",
   "execution_count": null,
   "id": "5f205149",
   "metadata": {},
   "outputs": [],
   "source": [
    "# to calculate other dimension automatically add -1\n",
    "a.reshape(2,-1)"
   ]
  },
  {
   "cell_type": "code",
   "execution_count": null,
   "id": "cc1d01e4",
   "metadata": {},
   "outputs": [],
   "source": [
    "a.reshape(-1,2)"
   ]
  },
  {
   "cell_type": "code",
   "execution_count": null,
   "id": "e1581502",
   "metadata": {},
   "outputs": [],
   "source": [
    "# reshape return new array\n",
    "# resize modifies the original array"
   ]
  },
  {
   "cell_type": "markdown",
   "id": "23c6d11e",
   "metadata": {},
   "source": [
    "### Stacking together different arrays"
   ]
  },
  {
   "cell_type": "code",
   "execution_count": null,
   "id": "a5cf17fe",
   "metadata": {},
   "outputs": [],
   "source": [
    "a = np.floor(10 * rg.random((2,2)))\n",
    "b = np.floor(10 * rg.random((2,2)))"
   ]
  },
  {
   "cell_type": "code",
   "execution_count": null,
   "id": "f8b85c23",
   "metadata": {},
   "outputs": [],
   "source": [
    "a"
   ]
  },
  {
   "cell_type": "code",
   "execution_count": null,
   "id": "e2a249da",
   "metadata": {},
   "outputs": [],
   "source": [
    "b"
   ]
  },
  {
   "cell_type": "code",
   "execution_count": null,
   "id": "3518450e",
   "metadata": {},
   "outputs": [],
   "source": [
    "np.vstack((a,b))"
   ]
  },
  {
   "cell_type": "code",
   "execution_count": null,
   "id": "fd85a509",
   "metadata": {},
   "outputs": [],
   "source": [
    "np.hstack((a,b))"
   ]
  },
  {
   "cell_type": "code",
   "execution_count": null,
   "id": "0b89ef42",
   "metadata": {},
   "outputs": [],
   "source": [
    "c1 = np.array([1,2])\n",
    "c2 = np.array([3,4])"
   ]
  },
  {
   "cell_type": "code",
   "execution_count": null,
   "id": "236f80d8",
   "metadata": {},
   "outputs": [],
   "source": [
    "# it stack 1D -> 2D (in hstack manner)\n",
    "np.column_stack((c1, c2))"
   ]
  },
  {
   "cell_type": "code",
   "execution_count": null,
   "id": "069f67fc",
   "metadata": {},
   "outputs": [],
   "source": [
    "np.hstack((c1,c2))"
   ]
  },
  {
   "cell_type": "code",
   "execution_count": null,
   "id": "8e7a9b00",
   "metadata": {},
   "outputs": [],
   "source": [
    "np.column_stack((c1[: np.newaxis], c2[:, np.newaxis]))"
   ]
  },
  {
   "cell_type": "code",
   "execution_count": null,
   "id": "46ae4166",
   "metadata": {},
   "outputs": [],
   "source": [
    "np.column_stack is np.hstack"
   ]
  },
  {
   "cell_type": "code",
   "execution_count": null,
   "id": "2413aa69",
   "metadata": {},
   "outputs": [],
   "source": [
    "np.row_stack is np.vstack"
   ]
  },
  {
   "cell_type": "code",
   "execution_count": null,
   "id": "1c56ccd0",
   "metadata": {},
   "outputs": [],
   "source": [
    "np.r_[1:4, 0,2]"
   ]
  },
  {
   "cell_type": "code",
   "execution_count": null,
   "id": "888ddc4e",
   "metadata": {},
   "outputs": [],
   "source": [
    "np.c_[[1,2], [3,4]]"
   ]
  },
  {
   "cell_type": "markdown",
   "id": "4972104e",
   "metadata": {},
   "source": [
    "### Splitting one array into several smaller ones"
   ]
  },
  {
   "cell_type": "code",
   "execution_count": null,
   "id": "6a8ee0c3",
   "metadata": {},
   "outputs": [],
   "source": [
    "a = np.floor(10 * rg.random((2, 12)))"
   ]
  },
  {
   "cell_type": "code",
   "execution_count": null,
   "id": "1ac5c4bd",
   "metadata": {},
   "outputs": [],
   "source": [
    "a"
   ]
  },
  {
   "cell_type": "code",
   "execution_count": null,
   "id": "dbf9de3e",
   "metadata": {},
   "outputs": [],
   "source": [
    "np.hsplit(a,3)"
   ]
  },
  {
   "cell_type": "code",
   "execution_count": null,
   "id": "4bccd042",
   "metadata": {},
   "outputs": [],
   "source": [
    "np.hsplit(a, (3, 6))"
   ]
  },
  {
   "cell_type": "markdown",
   "id": "05d9b14f",
   "metadata": {},
   "source": [
    "## Copies and Views"
   ]
  },
  {
   "cell_type": "markdown",
   "id": "06575caf",
   "metadata": {},
   "source": [
    "### No Copy at All"
   ]
  },
  {
   "cell_type": "code",
   "execution_count": null,
   "id": "365be869",
   "metadata": {},
   "outputs": [],
   "source": [
    "a = np.array([[1,2],[3,4]])"
   ]
  },
  {
   "cell_type": "code",
   "execution_count": null,
   "id": "43a17119",
   "metadata": {},
   "outputs": [],
   "source": [
    "b = a"
   ]
  },
  {
   "cell_type": "code",
   "execution_count": null,
   "id": "cc67e87e",
   "metadata": {},
   "outputs": [],
   "source": [
    "b[0][0] = 111"
   ]
  },
  {
   "cell_type": "code",
   "execution_count": null,
   "id": "371600c7",
   "metadata": {},
   "outputs": [],
   "source": [
    "a"
   ]
  },
  {
   "cell_type": "code",
   "execution_count": null,
   "id": "571e66e8",
   "metadata": {},
   "outputs": [],
   "source": [
    "b is a"
   ]
  },
  {
   "cell_type": "markdown",
   "id": "8479f919",
   "metadata": {},
   "source": [
    "### View or Shallow Copy"
   ]
  },
  {
   "cell_type": "code",
   "execution_count": null,
   "id": "f9318126",
   "metadata": {},
   "outputs": [],
   "source": [
    "a = np.array([[1,2,3], [2,3,4], [4,5,6], [7,8,9]])"
   ]
  },
  {
   "cell_type": "code",
   "execution_count": null,
   "id": "2a5c91ca",
   "metadata": {},
   "outputs": [],
   "source": [
    "c = a.view()"
   ]
  },
  {
   "cell_type": "code",
   "execution_count": null,
   "id": "cdbb151b",
   "metadata": {},
   "outputs": [],
   "source": [
    "c is a"
   ]
  },
  {
   "cell_type": "code",
   "execution_count": null,
   "id": "60e249d5",
   "metadata": {},
   "outputs": [],
   "source": [
    "c.flags.owndata"
   ]
  },
  {
   "cell_type": "code",
   "execution_count": null,
   "id": "5211ed04",
   "metadata": {},
   "outputs": [],
   "source": [
    "c = c.reshape((3,-1))"
   ]
  },
  {
   "cell_type": "code",
   "execution_count": null,
   "id": "afaf9a8c",
   "metadata": {},
   "outputs": [],
   "source": [
    "c.shape"
   ]
  },
  {
   "cell_type": "code",
   "execution_count": null,
   "id": "bcb241fb",
   "metadata": {},
   "outputs": [],
   "source": [
    "a.shape"
   ]
  },
  {
   "cell_type": "code",
   "execution_count": null,
   "id": "6bb2a450",
   "metadata": {},
   "outputs": [],
   "source": [
    "c is a"
   ]
  },
  {
   "cell_type": "code",
   "execution_count": null,
   "id": "0641750d",
   "metadata": {},
   "outputs": [],
   "source": [
    "c[0,0] = 1234"
   ]
  },
  {
   "cell_type": "code",
   "execution_count": null,
   "id": "19651acc",
   "metadata": {},
   "outputs": [],
   "source": [
    "a"
   ]
  },
  {
   "cell_type": "code",
   "execution_count": null,
   "id": "888a470c",
   "metadata": {},
   "outputs": [],
   "source": [
    "s = a[:, 1:3]\n",
    "s[:] = 10"
   ]
  },
  {
   "cell_type": "code",
   "execution_count": null,
   "id": "cf390c73",
   "metadata": {},
   "outputs": [],
   "source": [
    "a"
   ]
  },
  {
   "cell_type": "markdown",
   "id": "74a0f6e3",
   "metadata": {},
   "source": [
    "###  Deep Copy"
   ]
  },
  {
   "cell_type": "code",
   "execution_count": null,
   "id": "64c158b1",
   "metadata": {},
   "outputs": [],
   "source": [
    "d = a.copy()"
   ]
  },
  {
   "cell_type": "code",
   "execution_count": null,
   "id": "e518aabe",
   "metadata": {},
   "outputs": [],
   "source": [
    "d is a"
   ]
  },
  {
   "cell_type": "code",
   "execution_count": null,
   "id": "ae99d497",
   "metadata": {},
   "outputs": [],
   "source": [
    "d.base is a"
   ]
  },
  {
   "cell_type": "code",
   "execution_count": null,
   "id": "82b13a6b",
   "metadata": {},
   "outputs": [],
   "source": [
    "a = np.arange(int(1e8))\n",
    "b = a[:100].copy()\n",
    "del a"
   ]
  },
  {
   "cell_type": "code",
   "execution_count": null,
   "id": "559a62a3",
   "metadata": {},
   "outputs": [],
   "source": [
    "b"
   ]
  },
  {
   "cell_type": "markdown",
   "id": "19c10917",
   "metadata": {},
   "source": [
    "## Advanced indexing and index tricks"
   ]
  },
  {
   "cell_type": "markdown",
   "id": "97b8d766",
   "metadata": {},
   "source": [
    "### Indeing with Arrays of Indices"
   ]
  },
  {
   "cell_type": "code",
   "execution_count": null,
   "id": "1f088a00",
   "metadata": {},
   "outputs": [],
   "source": [
    "a = np.arange(12)**2"
   ]
  },
  {
   "cell_type": "code",
   "execution_count": null,
   "id": "f6be1087",
   "metadata": {},
   "outputs": [],
   "source": [
    "i = np.array([1,1,3,8,5])"
   ]
  },
  {
   "cell_type": "code",
   "execution_count": null,
   "id": "4a4916b2",
   "metadata": {},
   "outputs": [],
   "source": [
    "a[i]"
   ]
  },
  {
   "cell_type": "code",
   "execution_count": null,
   "id": "cf548313",
   "metadata": {},
   "outputs": [],
   "source": [
    "a.shape"
   ]
  },
  {
   "cell_type": "code",
   "execution_count": null,
   "id": "6ca569d6",
   "metadata": {},
   "outputs": [],
   "source": [
    "a"
   ]
  },
  {
   "cell_type": "code",
   "execution_count": null,
   "id": "1694dd44",
   "metadata": {},
   "outputs": [],
   "source": [
    "j = np.array([[3,4], [9,7]])\n",
    "a[j]"
   ]
  },
  {
   "cell_type": "code",
   "execution_count": null,
   "id": "b147b7ec",
   "metadata": {},
   "outputs": [],
   "source": [
    "palette = np.array([[0,0,0],\n",
    "                    [255,0,0],\n",
    "                    [0,255,0],\n",
    "                    [0,0,255],\n",
    "                    [255,255,255]])"
   ]
  },
  {
   "cell_type": "code",
   "execution_count": null,
   "id": "d5857fbd",
   "metadata": {},
   "outputs": [],
   "source": [
    "image = np.array([[0, 1, 2, 0], [0, 3, 4, 0]])"
   ]
  },
  {
   "cell_type": "code",
   "execution_count": null,
   "id": "fee1a108",
   "metadata": {},
   "outputs": [],
   "source": [
    "palette[image]"
   ]
  },
  {
   "cell_type": "code",
   "execution_count": null,
   "id": "3d325f07",
   "metadata": {},
   "outputs": [],
   "source": [
    "a = np.arange(12).reshape(3,4)\n",
    "a"
   ]
  },
  {
   "cell_type": "code",
   "execution_count": null,
   "id": "e65c314a",
   "metadata": {},
   "outputs": [],
   "source": [
    "i = np.array([[0, 1], [1, 2]])\n",
    "j = np.array([[2, 1], [3, 3]])"
   ]
  },
  {
   "cell_type": "code",
   "execution_count": null,
   "id": "460fc4b0",
   "metadata": {},
   "outputs": [],
   "source": [
    "a[i, j]"
   ]
  },
  {
   "cell_type": "code",
   "execution_count": null,
   "id": "2e0c1176",
   "metadata": {},
   "outputs": [],
   "source": [
    "a[i, 2]"
   ]
  },
  {
   "cell_type": "code",
   "execution_count": null,
   "id": "f064090e",
   "metadata": {},
   "outputs": [],
   "source": [
    "a"
   ]
  },
  {
   "cell_type": "code",
   "execution_count": null,
   "id": "1165b6f4",
   "metadata": {},
   "outputs": [],
   "source": [
    "a[:, j]"
   ]
  },
  {
   "cell_type": "code",
   "execution_count": null,
   "id": "e114d2cf",
   "metadata": {},
   "outputs": [],
   "source": [
    "# Another common use of indexing with arrays is the search of the maximum value of time-dependent series:"
   ]
  },
  {
   "cell_type": "code",
   "execution_count": null,
   "id": "443933ce",
   "metadata": {},
   "outputs": [],
   "source": [
    "time = np.linspace(20, 145, 5)\n",
    "data = np.sin(np.arange(20)).reshape(5,4)"
   ]
  },
  {
   "cell_type": "code",
   "execution_count": null,
   "id": "56a7a707",
   "metadata": {},
   "outputs": [],
   "source": [
    "time"
   ]
  },
  {
   "cell_type": "code",
   "execution_count": null,
   "id": "b0c3c2ff",
   "metadata": {},
   "outputs": [],
   "source": [
    "data"
   ]
  },
  {
   "cell_type": "code",
   "execution_count": null,
   "id": "3cbffcb1",
   "metadata": {},
   "outputs": [],
   "source": [
    "ind = data.argmax(axis=0)\n",
    "ind"
   ]
  },
  {
   "cell_type": "code",
   "execution_count": null,
   "id": "c6d0feac",
   "metadata": {},
   "outputs": [],
   "source": [
    "time_max = time[ind]\n",
    "time_max"
   ]
  },
  {
   "cell_type": "code",
   "execution_count": null,
   "id": "bc51e8ec",
   "metadata": {},
   "outputs": [],
   "source": [
    "data_max = data[ind, range(data.shape[1])]\n",
    "data_max"
   ]
  },
  {
   "cell_type": "code",
   "execution_count": null,
   "id": "3f006430",
   "metadata": {},
   "outputs": [],
   "source": [
    "np.all(data_max == data.max(axis=0))"
   ]
  },
  {
   "cell_type": "markdown",
   "id": "ccf0ab3a",
   "metadata": {},
   "source": [
    "### Indexing with Boolean Arrays"
   ]
  },
  {
   "cell_type": "code",
   "execution_count": null,
   "id": "644e797f",
   "metadata": {},
   "outputs": [],
   "source": [
    "a = np.array([[10,20,5,7], [0,10,2,7]])\n",
    "a"
   ]
  },
  {
   "cell_type": "code",
   "execution_count": null,
   "id": "c7b7e3d4",
   "metadata": {},
   "outputs": [],
   "source": [
    "b = a < 10"
   ]
  },
  {
   "cell_type": "code",
   "execution_count": null,
   "id": "8a60fa84",
   "metadata": {},
   "outputs": [],
   "source": [
    "a[b]"
   ]
  },
  {
   "cell_type": "markdown",
   "id": "bcffefe0",
   "metadata": {},
   "source": [
    "### The ix_() function"
   ]
  },
  {
   "cell_type": "code",
   "execution_count": null,
   "id": "c53c26fd",
   "metadata": {},
   "outputs": [],
   "source": [
    "# The ix_ function can be used to combine different vectors so as to obtain the result for each n-uplet."
   ]
  },
  {
   "cell_type": "code",
   "execution_count": null,
   "id": "3368026d",
   "metadata": {},
   "outputs": [],
   "source": [
    "a = np.array([2,3,4,5])\n",
    "b = np.array([8,5,4])\n",
    "c = np.array([5,4,6,8,3])"
   ]
  },
  {
   "cell_type": "code",
   "execution_count": null,
   "id": "04c021af",
   "metadata": {},
   "outputs": [],
   "source": [
    "ax, bx, cx = np.ix_(a,b,c)"
   ]
  },
  {
   "cell_type": "code",
   "execution_count": null,
   "id": "b430c16b",
   "metadata": {},
   "outputs": [],
   "source": [
    "np.ix_(a, b, c)"
   ]
  },
  {
   "cell_type": "code",
   "execution_count": null,
   "id": "e5bc5bef",
   "metadata": {},
   "outputs": [],
   "source": []
  }
 ],
 "metadata": {
  "kernelspec": {
   "display_name": "Python 3 (ipykernel)",
   "language": "python",
   "name": "python3"
  },
  "language_info": {
   "codemirror_mode": {
    "name": "ipython",
    "version": 3
   },
   "file_extension": ".py",
   "mimetype": "text/x-python",
   "name": "python",
   "nbconvert_exporter": "python",
   "pygments_lexer": "ipython3",
   "version": "3.9.6"
  }
 },
 "nbformat": 4,
 "nbformat_minor": 5
}
