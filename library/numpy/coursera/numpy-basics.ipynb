{
 "cells": [
  {
   "cell_type": "code",
   "execution_count": null,
   "id": "8405b540",
   "metadata": {},
   "outputs": [],
   "source": [
    "import numpy as np\n",
    "import math"
   ]
  },
  {
   "cell_type": "markdown",
   "id": "4e8abd88",
   "metadata": {},
   "source": [
    "## Array Creation"
   ]
  },
  {
   "cell_type": "code",
   "execution_count": null,
   "id": "367c633b",
   "metadata": {},
   "outputs": [],
   "source": [
    "a = np.array([1,2,3])\n",
    "print(a)\n",
    "print(a.ndim)"
   ]
  },
  {
   "cell_type": "code",
   "execution_count": null,
   "id": "94ee4691",
   "metadata": {},
   "outputs": [],
   "source": [
    "b = np.array([[1,2,3], [4,5,6]])\n",
    "b.shape"
   ]
  },
  {
   "cell_type": "code",
   "execution_count": null,
   "id": "fe91aa78",
   "metadata": {},
   "outputs": [],
   "source": [
    "b.dtype"
   ]
  },
  {
   "cell_type": "code",
   "execution_count": null,
   "id": "0620c69d",
   "metadata": {},
   "outputs": [],
   "source": [
    "b.dtype.name"
   ]
  },
  {
   "cell_type": "code",
   "execution_count": null,
   "id": "b6dcc86e",
   "metadata": {},
   "outputs": [],
   "source": [
    "fltArray = np.array([1.1, 2.1])\n",
    "fltArray.dtype.name"
   ]
  },
  {
   "cell_type": "code",
   "execution_count": null,
   "id": "525e60c5",
   "metadata": {},
   "outputs": [],
   "source": [
    "np.zeros((2,4))"
   ]
  },
  {
   "cell_type": "code",
   "execution_count": null,
   "id": "9cfa8497",
   "metadata": {},
   "outputs": [],
   "source": [
    "np.ones((3,5))"
   ]
  },
  {
   "cell_type": "code",
   "execution_count": null,
   "id": "2b5b0f0a",
   "metadata": {},
   "outputs": [],
   "source": [
    "np.random.rand(2,2)"
   ]
  },
  {
   "cell_type": "code",
   "execution_count": null,
   "id": "7746cc43",
   "metadata": {},
   "outputs": [],
   "source": [
    "np.arange(10,40,5)"
   ]
  },
  {
   "cell_type": "code",
   "execution_count": null,
   "id": "9b3513a1",
   "metadata": {},
   "outputs": [],
   "source": [
    "np.linspace(0,1,5)"
   ]
  },
  {
   "cell_type": "markdown",
   "id": "e8e5a164",
   "metadata": {},
   "source": [
    "## Operation"
   ]
  },
  {
   "cell_type": "code",
   "execution_count": null,
   "id": "d583b7c9",
   "metadata": {},
   "outputs": [],
   "source": [
    "a = np.array([1,2,3,4,5])\n",
    "b = np.array([5,5,9,9,3])"
   ]
  },
  {
   "cell_type": "code",
   "execution_count": null,
   "id": "023049b5",
   "metadata": {},
   "outputs": [],
   "source": [
    "a - b"
   ]
  },
  {
   "cell_type": "code",
   "execution_count": null,
   "id": "fc1f0b7e",
   "metadata": {},
   "outputs": [],
   "source": [
    "a + b"
   ]
  },
  {
   "cell_type": "code",
   "execution_count": null,
   "id": "38052d81",
   "metadata": {},
   "outputs": [],
   "source": [
    "a * b"
   ]
  },
  {
   "cell_type": "code",
   "execution_count": null,
   "id": "b62fa377",
   "metadata": {},
   "outputs": [],
   "source": [
    "a / b"
   ]
  },
  {
   "cell_type": "code",
   "execution_count": null,
   "id": "aa6a3f02",
   "metadata": {},
   "outputs": [],
   "source": [
    "b / a"
   ]
  },
  {
   "cell_type": "code",
   "execution_count": null,
   "id": "f0ba0bfe",
   "metadata": {},
   "outputs": [],
   "source": [
    "a > 2"
   ]
  },
  {
   "cell_type": "code",
   "execution_count": null,
   "id": "91aedc64",
   "metadata": {},
   "outputs": [],
   "source": [
    "A = np.array([[1,2],[3,4]])\n",
    "B = np.array([[5,6], [5,6]])"
   ]
  },
  {
   "cell_type": "code",
   "execution_count": null,
   "id": "bcc07863",
   "metadata": {},
   "outputs": [],
   "source": [
    "A*B # element wise"
   ]
  },
  {
   "cell_type": "code",
   "execution_count": null,
   "id": "0ea8693e",
   "metadata": {},
   "outputs": [],
   "source": [
    "A@B # matrix dot product"
   ]
  },
  {
   "cell_type": "code",
   "execution_count": null,
   "id": "546fa0b5",
   "metadata": {},
   "outputs": [],
   "source": [
    "# upcasting\n",
    "\n",
    "array1 = np.array([[1,2], [3,4]])\n",
    "array2 = np.array([[1.2,2.1], [3.4, 4.3]])\n",
    "\n",
    "array3 = array1 + array2\n",
    "print(array3)\n",
    "print(array3.dtype)"
   ]
  },
  {
   "cell_type": "code",
   "execution_count": null,
   "id": "4d0c4ca2",
   "metadata": {
    "slideshow": {
     "slide_type": "-"
    }
   },
   "outputs": [],
   "source": [
    "# aggregatiion functions\n",
    "print(array3.min())\n",
    "print(array3.max())\n",
    "print(array3.sum())\n",
    "print(array3.mean())"
   ]
  },
  {
   "cell_type": "markdown",
   "id": "4ba51d62",
   "metadata": {},
   "source": [
    "## Indexing"
   ]
  },
  {
   "cell_type": "code",
   "execution_count": null,
   "id": "cf38705d",
   "metadata": {},
   "outputs": [],
   "source": [
    "a = np.array([[2,4,6],[5,7,9]])\n",
    "print(a[a>2])"
   ]
  },
  {
   "cell_type": "code",
   "execution_count": null,
   "id": "3ec59693",
   "metadata": {},
   "outputs": [],
   "source": [
    "a[[0,1],[1,1]]"
   ]
  },
  {
   "cell_type": "markdown",
   "id": "abd223d6",
   "metadata": {},
   "source": [
    "## Slicing"
   ]
  },
  {
   "cell_type": "code",
   "execution_count": null,
   "id": "2a325a55",
   "metadata": {},
   "outputs": [],
   "source": [
    "a = np.array([[1,2,3],[2,3,4], [4,5,6]])\n",
    "a.shape"
   ]
  },
  {
   "cell_type": "code",
   "execution_count": null,
   "id": "c2eb4371",
   "metadata": {},
   "outputs": [],
   "source": [
    "a"
   ]
  },
  {
   "cell_type": "code",
   "execution_count": null,
   "id": "f75cb707",
   "metadata": {},
   "outputs": [],
   "source": [
    "b = a[1:, 0:2]\n",
    "b"
   ]
  },
  {
   "cell_type": "code",
   "execution_count": null,
   "id": "61bbd74f",
   "metadata": {},
   "outputs": [],
   "source": [
    "b[0][0] = 202"
   ]
  },
  {
   "cell_type": "code",
   "execution_count": null,
   "id": "ac6ed97d",
   "metadata": {},
   "outputs": [],
   "source": [
    "a \n",
    "# now a is changed, because it only passes the refernce to b"
   ]
  }
 ],
 "metadata": {
  "kernelspec": {
   "display_name": "Python 3 (ipykernel)",
   "language": "python",
   "name": "python3"
  },
  "language_info": {
   "codemirror_mode": {
    "name": "ipython",
    "version": 3
   },
   "file_extension": ".py",
   "mimetype": "text/x-python",
   "name": "python",
   "nbconvert_exporter": "python",
   "pygments_lexer": "ipython3",
   "version": "3.9.6"
  }
 },
 "nbformat": 4,
 "nbformat_minor": 5
}
