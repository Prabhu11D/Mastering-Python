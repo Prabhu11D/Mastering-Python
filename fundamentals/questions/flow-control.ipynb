{
 "cells": [
  {
   "cell_type": "markdown",
   "id": "2bb1f117",
   "metadata": {},
   "source": [
    "# Flow Control"
   ]
  },
  {
   "cell_type": "markdown",
   "id": "0a31f45b",
   "metadata": {},
   "source": [
    "## 1. What is flow control?"
   ]
  },
  {
   "cell_type": "markdown",
   "id": "2374486a",
   "metadata": {},
   "source": [
    "### Ans"
   ]
  },
  {
   "cell_type": "markdown",
   "id": "904d4947",
   "metadata": {},
   "source": [
    "----\n",
    "\n",
    "## 2. Change it to ternary operator"
   ]
  },
  {
   "cell_type": "code",
   "execution_count": null,
   "id": "2408dd57",
   "metadata": {},
   "outputs": [],
   "source": [
    "age = 17\n",
    "if age > 18:\n",
    "    vote = True\n",
    "else:\n",
    "    vote = False"
   ]
  },
  {
   "cell_type": "markdown",
   "id": "a528d2d8",
   "metadata": {},
   "source": [
    "### Ans"
   ]
  },
  {
   "cell_type": "code",
   "execution_count": null,
   "id": "daf6873c",
   "metadata": {},
   "outputs": [],
   "source": [
    "age = 17\n",
    "vote = True if age > 18 else False"
   ]
  },
  {
   "cell_type": "markdown",
   "id": "8fa805e4",
   "metadata": {},
   "source": [
    "----\n",
    "\n",
    "## 3. Convert into code, if hungry, eat food. otherwise always eat snacks"
   ]
  },
  {
   "cell_type": "markdown",
   "id": "12c37871",
   "metadata": {},
   "source": [
    "### Ans"
   ]
  },
  {
   "cell_type": "code",
   "execution_count": null,
   "id": "2da39cc1",
   "metadata": {},
   "outputs": [],
   "source": [
    "eating = None\n",
    "hungry = False\n",
    "if hungry:\n",
    "    eating = \"Food\"\n",
    "else:\n",
    "    eating = \"Snacks\"\n",
    "    \n",
    "print(eating)"
   ]
  },
  {
   "cell_type": "markdown",
   "id": "ee79b30d",
   "metadata": {},
   "source": [
    "----\n",
    "\n",
    "## 4. What is Exceptional Handling"
   ]
  },
  {
   "cell_type": "markdown",
   "id": "cc13a410",
   "metadata": {},
   "source": [
    "### Ans\n",
    "\n",
    "In some exceptional case you got a unexpected or catastropic runtime error will happen. by handling this exceptional case, we don't get crash in software. this is called exceptional handling"
   ]
  },
  {
   "cell_type": "markdown",
   "id": "f4e0c51b",
   "metadata": {},
   "source": [
    "----\n",
    "\n",
    "## 5. Give an Example of Exceptional Handling"
   ]
  },
  {
   "cell_type": "markdown",
   "id": "803cdae0",
   "metadata": {},
   "source": [
    "### Ans"
   ]
  },
  {
   "cell_type": "code",
   "execution_count": null,
   "id": "264cca28",
   "metadata": {},
   "outputs": [],
   "source": [
    "try:\n",
    "    print(1/0)\n",
    "except Exception as e:\n",
    "    print(e)"
   ]
  },
  {
   "cell_type": "markdown",
   "id": "c19cb3b3",
   "metadata": {},
   "source": [
    "----\n",
    "\n",
    "## 6. How do you manually raise an error for `zerodivisioerror`"
   ]
  },
  {
   "cell_type": "markdown",
   "id": "b9aa477c",
   "metadata": {},
   "source": [
    "### Ans"
   ]
  },
  {
   "cell_type": "code",
   "execution_count": null,
   "id": "686520ad",
   "metadata": {},
   "outputs": [],
   "source": [
    "val = 0\n",
    "\n",
    "try:\n",
    "    if val == 0.0: \n",
    "        raise ZeroDivisionError(\"taking the inverse of zero is forbidden!\")\n",
    "    inv = 1.0 / val\n",
    "    print(inv)\n",
    "except Exception as e:\n",
    "    print(e)"
   ]
  },
  {
   "cell_type": "markdown",
   "id": "2b95650e",
   "metadata": {},
   "source": [
    "----\n",
    "\n",
    "## 7. print \"Hello World\" for n times, let assume n = 10"
   ]
  },
  {
   "cell_type": "markdown",
   "id": "01337958",
   "metadata": {},
   "source": [
    "### Ans"
   ]
  },
  {
   "cell_type": "code",
   "execution_count": null,
   "id": "5e132444",
   "metadata": {},
   "outputs": [],
   "source": [
    "for i in range(10):\n",
    "    print(\"Hello World\")"
   ]
  },
  {
   "cell_type": "markdown",
   "id": "1369e1aa",
   "metadata": {},
   "source": [
    "----\n",
    "\n",
    "## 8. What is the difference between break and continue?"
   ]
  },
  {
   "cell_type": "markdown",
   "id": "80a9b7b2",
   "metadata": {},
   "source": [
    "### Ans"
   ]
  },
  {
   "cell_type": "markdown",
   "id": "7bd54bf4",
   "metadata": {},
   "source": [
    "----\n",
    "\n",
    "## 9. Print all the values from dictionary"
   ]
  },
  {
   "cell_type": "code",
   "execution_count": null,
   "id": "a81e7dd6",
   "metadata": {},
   "outputs": [],
   "source": [
    "address = {\n",
    "    \"country\": \"India\",\n",
    "    \"state\": \"Tamil Nadu\",\n",
    "    \"District\": \"Coimbatore\",\n",
    "    \"Town\": \"Veerakeralam\",\n",
    "    \"pincode\": 641007\n",
    "}"
   ]
  },
  {
   "cell_type": "markdown",
   "id": "8cf1d7f8",
   "metadata": {},
   "source": [
    "### Ans"
   ]
  },
  {
   "cell_type": "code",
   "execution_count": null,
   "id": "2c8b67b5",
   "metadata": {},
   "outputs": [],
   "source": [
    "for key in address.values():\n",
    "    print(key)"
   ]
  },
  {
   "cell_type": "markdown",
   "id": "fa3b8363",
   "metadata": {},
   "source": [
    "-----\n",
    "\n",
    "## 10. Change it to List Comprehension"
   ]
  },
  {
   "cell_type": "code",
   "execution_count": null,
   "id": "b8f180a3",
   "metadata": {},
   "outputs": [],
   "source": [
    "name = \"Prabhu\"\n",
    "name_list = []\n",
    "for char in name:\n",
    "    name_list.append(char.upper())\n",
    "    \n",
    "name_list"
   ]
  },
  {
   "cell_type": "markdown",
   "id": "1c83757d",
   "metadata": {},
   "source": [
    "### Ans"
   ]
  },
  {
   "cell_type": "code",
   "execution_count": null,
   "id": "1dacfdc9",
   "metadata": {},
   "outputs": [],
   "source": [
    "name = \"Prabhu\"\n",
    "name_list = [char.upper() for char in name]\n",
    "name_list"
   ]
  },
  {
   "cell_type": "markdown",
   "id": "c26c57ce",
   "metadata": {},
   "source": [
    "----\n",
    "\n",
    "# Project"
   ]
  },
  {
   "cell_type": "markdown",
   "id": "acd4a56d",
   "metadata": {},
   "source": [
    "Printing pattern shapes\\\n",
    "If user enter `square 5`\n",
    "it should print\n",
    "```txt\n",
    "*****\n",
    "*****\n",
    "*****\n",
    "*****\n",
    "*****\n",
    "```\n",
    "If user enter `rectangle 5 10`\n",
    "it should print\n",
    "```txt\n",
    "**********\n",
    "**********\n",
    "**********\n",
    "**********\n",
    "**********\n",
    "```\n",
    "\n",
    "if user enter `triangle 6` it should print\n",
    "```txt\n",
    "*\n",
    "**\n",
    "***\n",
    "****\n",
    "*****\n",
    "******\n",
    "```\n",
    "\n",
    "if user enter any other commands, throw an error `invalid input`"
   ]
  }
 ],
 "metadata": {
  "interpreter": {
   "hash": "63fd5069d213b44bf678585dea6b12cceca9941eaf7f819626cde1f2670de90d"
  },
  "kernelspec": {
   "display_name": "Python 3.9.6 64-bit",
   "name": "python3"
  },
  "language_info": {
   "codemirror_mode": {
    "name": "ipython",
    "version": 3
   },
   "file_extension": ".py",
   "mimetype": "text/x-python",
   "name": "python",
   "nbconvert_exporter": "python",
   "pygments_lexer": "ipython3",
   "version": "3.9.6"
  }
 },
 "nbformat": 4,
 "nbformat_minor": 5
}
