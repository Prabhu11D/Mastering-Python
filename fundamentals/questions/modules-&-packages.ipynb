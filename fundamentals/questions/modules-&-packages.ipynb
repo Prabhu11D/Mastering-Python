{
 "cells": [
  {
   "cell_type": "markdown",
   "id": "9f2c7cbc",
   "metadata": {},
   "source": [
    "# Modules and Packages"
   ]
  },
  {
   "cell_type": "markdown",
   "id": "f2f0b9d2",
   "metadata": {},
   "source": [
    "## 1. What is Module?"
   ]
  },
  {
   "cell_type": "markdown",
   "id": "ce033efd",
   "metadata": {},
   "source": [
    "### Ans\n",
    "\n",
    "a single file with .py extension is called module"
   ]
  },
  {
   "cell_type": "markdown",
   "id": "8b1c8393",
   "metadata": {},
   "source": [
    "----\n",
    "\n",
    "## 2. What is Package?"
   ]
  },
  {
   "cell_type": "markdown",
   "id": "62c54530",
   "metadata": {},
   "source": [
    "### Ans\n",
    "a collection of modules in a folder called package. __init__.py file must be in that folder to be a package. otherwise it is just folder"
   ]
  },
  {
   "cell_type": "markdown",
   "id": "909ae690",
   "metadata": {},
   "source": [
    "----\n",
    "\n",
    "## 3. What is Extension Module?"
   ]
  },
  {
   "cell_type": "markdown",
   "id": "152535b5",
   "metadata": {},
   "source": [
    "### Ans\n",
    "\n",
    "A file which can be written in different language and if python interpreter use that file then it is extension module. example: .c, .cpp"
   ]
  },
  {
   "cell_type": "markdown",
   "id": "d2c91719",
   "metadata": {},
   "source": [
    "----\n",
    "\n",
    "## 4. How to Import a Module"
   ]
  },
  {
   "cell_type": "markdown",
   "id": "f6edb8a9",
   "metadata": {},
   "source": [
    "### Ans"
   ]
  },
  {
   "cell_type": "code",
   "execution_count": 1,
   "id": "002a18f3",
   "metadata": {},
   "outputs": [],
   "source": [
    "# import module_name"
   ]
  },
  {
   "cell_type": "markdown",
   "id": "31735855",
   "metadata": {},
   "source": [
    "----\n",
    "\n",
    "## 5. How to import specific variable or function from a module?"
   ]
  },
  {
   "cell_type": "markdown",
   "metadata": {},
   "source": [
    "### Ans"
   ]
  },
  {
   "cell_type": "code",
   "execution_count": 2,
   "id": "97b0fb74",
   "metadata": {},
   "outputs": [],
   "source": [
    "# from module import var, func, class"
   ]
  },
  {
   "cell_type": "markdown",
   "id": "34eca604",
   "metadata": {},
   "source": [
    "----\n",
    "\n",
    "## 6. What is Absolute Import?"
   ]
  },
  {
   "cell_type": "markdown",
   "metadata": {},
   "source": [
    "### Ans"
   ]
  },
  {
   "cell_type": "markdown",
   "id": "09713774",
   "metadata": {},
   "source": [
    "----\n",
    "\n",
    "## 7. What is Relative Import?"
   ]
  },
  {
   "cell_type": "markdown",
   "metadata": {},
   "source": [
    "### Ans"
   ]
  }
 ],
 "metadata": {
  "interpreter": {
   "hash": "63fd5069d213b44bf678585dea6b12cceca9941eaf7f819626cde1f2670de90d"
  },
  "kernelspec": {
   "display_name": "Python 3.9.6 64-bit",
   "name": "python3"
  },
  "language_info": {
   "codemirror_mode": {
    "name": "ipython",
    "version": 3
   },
   "file_extension": ".py",
   "mimetype": "text/x-python",
   "name": "python",
   "nbconvert_exporter": "python",
   "pygments_lexer": "ipython3",
   "version": "3.9.6"
  }
 },
 "nbformat": 4,
 "nbformat_minor": 5
}
