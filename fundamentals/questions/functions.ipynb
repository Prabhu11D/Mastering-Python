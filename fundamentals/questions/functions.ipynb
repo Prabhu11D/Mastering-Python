{
 "cells": [
  {
   "cell_type": "markdown",
   "id": "1f24c1e2",
   "metadata": {},
   "source": [
    "# Functions"
   ]
  },
  {
   "cell_type": "markdown",
   "id": "09dd8ac9",
   "metadata": {},
   "source": [
    "## 1. What is the return value of the below function"
   ]
  },
  {
   "cell_type": "code",
   "execution_count": null,
   "id": "ee062686",
   "metadata": {},
   "outputs": [],
   "source": [
    "def dummy():\n",
    "    dummy = \"dummy\""
   ]
  },
  {
   "cell_type": "markdown",
   "id": "1d765b3b",
   "metadata": {},
   "source": [
    "### Ans\n",
    "None, if we don't specify any return value, python interpreter make it None as return value "
   ]
  },
  {
   "cell_type": "markdown",
   "id": "af2805e5",
   "metadata": {},
   "source": [
    "----\n",
    "\n",
    "## 2. What is use of functions?"
   ]
  },
  {
   "cell_type": "markdown",
   "metadata": {},
   "source": [
    "### Ans"
   ]
  },
  {
   "cell_type": "markdown",
   "id": "5b1c91f8",
   "metadata": {},
   "source": [
    "1. It make code reuse\n",
    "2. make it easier to debug\n",
    "3. it encapsulate the code."
   ]
  },
  {
   "cell_type": "markdown",
   "id": "01e6b2ea",
   "metadata": {},
   "source": [
    "----\n",
    "\n",
    "## 3. Write a Function to add two numbers"
   ]
  },
  {
   "cell_type": "markdown",
   "id": "c41cd5d0",
   "metadata": {},
   "source": [
    "### Ans"
   ]
  },
  {
   "cell_type": "code",
   "execution_count": null,
   "id": "20810d54",
   "metadata": {},
   "outputs": [],
   "source": [
    "def add(n1, n2):\n",
    "    return n1 + n2"
   ]
  },
  {
   "cell_type": "markdown",
   "id": "13ce0346",
   "metadata": {},
   "source": [
    "----\n",
    "\n",
    "## 4. Declare a Function and don't implement it"
   ]
  },
  {
   "cell_type": "markdown",
   "metadata": {},
   "source": [
    "### Ans"
   ]
  },
  {
   "cell_type": "code",
   "execution_count": null,
   "id": "067659dc",
   "metadata": {},
   "outputs": [],
   "source": [
    "def future():\n",
    "    pass"
   ]
  },
  {
   "cell_type": "markdown",
   "id": "de70f476",
   "metadata": {},
   "source": [
    "----\n",
    "\n",
    "## 5. How many return statement a function could have?"
   ]
  },
  {
   "cell_type": "markdown",
   "metadata": {},
   "source": [
    "### Ans"
   ]
  },
  {
   "cell_type": "markdown",
   "id": "2ab31ccd",
   "metadata": {},
   "source": [
    "----\n",
    "\n",
    "## 6. Create a function to calculate n power of x"
   ]
  },
  {
   "cell_type": "markdown",
   "metadata": {},
   "source": [
    "### Ans"
   ]
  },
  {
   "cell_type": "code",
   "execution_count": null,
   "id": "3d76504c",
   "metadata": {},
   "outputs": [],
   "source": [
    "def power(base, x):\n",
    "    return base**x"
   ]
  },
  {
   "cell_type": "markdown",
   "id": "a39ea2e1",
   "metadata": {},
   "source": [
    "----\n",
    "\n",
    "##  7. Types of Arguments in  Function"
   ]
  },
  {
   "cell_type": "markdown",
   "metadata": {},
   "source": [
    "### Ans"
   ]
  },
  {
   "cell_type": "markdown",
   "id": "fbea290e",
   "metadata": {},
   "source": [
    "----\n",
    "\n",
    "##  8. What is Keyword Argument?"
   ]
  },
  {
   "cell_type": "markdown",
   "metadata": {},
   "source": [
    "### Ans"
   ]
  },
  {
   "cell_type": "markdown",
   "id": "196b18ea",
   "metadata": {},
   "source": [
    "----\n",
    "\n",
    "## 9. Create a Function to calculate a Travel time by given distance and speed. the default speed is 200kmph, it can vary. output format HH:MM"
   ]
  },
  {
   "cell_type": "markdown",
   "metadata": {},
   "source": [
    "### Ans"
   ]
  },
  {
   "cell_type": "code",
   "execution_count": null,
   "id": "d02d263f",
   "metadata": {},
   "outputs": [],
   "source": [
    "def travel_time(distance, speed=200):\n",
    "    time = distance/speed\n",
    "    hour = int(time)\n",
    "    minute = int((time-hour)*60)\n",
    "    return f\"{hour}h:{minute}m\""
   ]
  },
  {
   "cell_type": "code",
   "execution_count": null,
   "id": "762df0ae",
   "metadata": {},
   "outputs": [],
   "source": [
    "travel_time(300, speed=100)"
   ]
  },
  {
   "cell_type": "markdown",
   "id": "85a3843a",
   "metadata": {},
   "source": [
    "----\n",
    "\n",
    "## 10. Write a `docstring` for above code"
   ]
  },
  {
   "cell_type": "markdown",
   "id": "8cd32099",
   "metadata": {},
   "source": [
    "### Ans"
   ]
  },
  {
   "cell_type": "code",
   "execution_count": null,
   "id": "ad5e4972",
   "metadata": {},
   "outputs": [],
   "source": [
    "def travel_time(distance, speed=200):\n",
    "    \"\"\"\n",
    "    to calulate travel time for given distance and speed\n",
    "    distance unit Km\n",
    "    speed unit Kmph\n",
    "    time = distance / speed\n",
    "    \"\"\"\n",
    "    time = distance/speed\n",
    "    hour = int(time)\n",
    "    minute = int((time-hour)*60)\n",
    "    return f\"{hour}h:{minute}m\""
   ]
  },
  {
   "cell_type": "markdown",
   "id": "5395b218",
   "metadata": {},
   "source": [
    "----\n",
    "\n",
    "## 11. Fix the Bug"
   ]
  },
  {
   "cell_type": "code",
   "execution_count": null,
   "id": "541045b6",
   "metadata": {},
   "outputs": [],
   "source": [
    "def custom_append(x, lyst=[]):\n",
    "    lyst.append(x)\n",
    "    print(lyst)\n",
    "    return lyst"
   ]
  },
  {
   "cell_type": "code",
   "execution_count": null,
   "id": "c1c0f724",
   "metadata": {},
   "outputs": [],
   "source": [
    "custom_append(10)"
   ]
  },
  {
   "cell_type": "code",
   "execution_count": null,
   "id": "d3ee66bc",
   "metadata": {},
   "outputs": [],
   "source": [
    "custom_append(20)"
   ]
  },
  {
   "cell_type": "code",
   "execution_count": null,
   "id": "140c9ff4",
   "metadata": {},
   "outputs": [],
   "source": [
    "custom_append(30, [3, 13])"
   ]
  },
  {
   "cell_type": "code",
   "execution_count": null,
   "id": "c470bc47",
   "metadata": {},
   "outputs": [],
   "source": [
    "custom_append(10)"
   ]
  },
  {
   "cell_type": "markdown",
   "id": "baa18b20",
   "metadata": {},
   "source": [
    "### Ans"
   ]
  },
  {
   "cell_type": "code",
   "execution_count": null,
   "id": "778981fa",
   "metadata": {},
   "outputs": [],
   "source": [
    "def c_append(x, lyst=None):\n",
    "    if lyst is None: \n",
    "        lyst = []\n",
    "    lyst.append(x)\n",
    "    print(lyst) \n",
    "    return lyst"
   ]
  },
  {
   "cell_type": "code",
   "execution_count": null,
   "id": "0e778942",
   "metadata": {},
   "outputs": [],
   "source": [
    "c_append(10)"
   ]
  },
  {
   "cell_type": "code",
   "execution_count": null,
   "id": "51dc2c1f",
   "metadata": {},
   "outputs": [],
   "source": [
    "c_append(20)"
   ]
  },
  {
   "cell_type": "code",
   "execution_count": null,
   "id": "bb7ccf64",
   "metadata": {},
   "outputs": [],
   "source": [
    "c_append(1, [11, 111])"
   ]
  },
  {
   "cell_type": "code",
   "execution_count": null,
   "id": "a57ac7b6",
   "metadata": {},
   "outputs": [],
   "source": [
    "c_append(10)"
   ]
  },
  {
   "cell_type": "markdown",
   "id": "2939c6e7",
   "metadata": {},
   "source": [
    "----\n",
    "\n",
    "## 12. Rebuilt `min()`"
   ]
  },
  {
   "cell_type": "markdown",
   "id": "4810839f",
   "metadata": {},
   "source": [
    "### Ans"
   ]
  },
  {
   "cell_type": "code",
   "execution_count": null,
   "id": "fcd038a6",
   "metadata": {},
   "outputs": [],
   "source": [
    "def c_min(*args):\n",
    "    m = args[0]\n",
    "    for x in args[1:]:\n",
    "        if x < m:\n",
    "            m = x\n",
    "    return m"
   ]
  },
  {
   "cell_type": "code",
   "execution_count": null,
   "id": "e684af03",
   "metadata": {},
   "outputs": [],
   "source": [
    "c_min(10,20,1,30)"
   ]
  },
  {
   "cell_type": "code",
   "execution_count": null,
   "id": "6a918e29",
   "metadata": {},
   "outputs": [],
   "source": [
    "c_min(*[1,2,0,10])"
   ]
  },
  {
   "cell_type": "markdown",
   "id": "a409b92e",
   "metadata": {},
   "source": [
    "----\n",
    "\n",
    "## 13. Explain the below code"
   ]
  },
  {
   "cell_type": "code",
   "execution_count": null,
   "id": "6d1e6ae8",
   "metadata": {},
   "outputs": [],
   "source": [
    "max(10, 20, 5)\n",
    "max(*[10, 20, 5])"
   ]
  },
  {
   "cell_type": "markdown",
   "id": "0a261165",
   "metadata": {},
   "source": [
    "### Ans\n",
    "\n",
    "because variable length parameter `*args` is tuple, so it is a sequence data type, we can pass sequence for `args`"
   ]
  },
  {
   "cell_type": "markdown",
   "id": "1a4f2cee",
   "metadata": {},
   "source": [
    "----\n",
    "\n",
    "## 14. Create a function with variable keyword arguments, and call it with dictionary"
   ]
  },
  {
   "cell_type": "markdown",
   "metadata": {},
   "source": [
    "### Ans"
   ]
  },
  {
   "cell_type": "code",
   "execution_count": null,
   "id": "0d350547",
   "metadata": {},
   "outputs": [],
   "source": [
    "def keyword(**kwargs):\n",
    "    for k, v in kwargs.items():\n",
    "        print(f\"{k} : {v}\")"
   ]
  },
  {
   "cell_type": "code",
   "execution_count": null,
   "id": "32ee5b1a",
   "metadata": {},
   "outputs": [],
   "source": [
    "keyword(name=\"Prabhu\", age=23)"
   ]
  },
  {
   "cell_type": "code",
   "execution_count": null,
   "id": "d3b49a11",
   "metadata": {},
   "outputs": [],
   "source": [
    "d = {\n",
    "    \"name\": \"Prabhu\",\n",
    "    \"age\": 23\n",
    "}"
   ]
  },
  {
   "cell_type": "code",
   "execution_count": null,
   "id": "aca23919",
   "metadata": {},
   "outputs": [],
   "source": [
    "keyword(**d)"
   ]
  },
  {
   "cell_type": "markdown",
   "id": "a1ca197d",
   "metadata": {},
   "source": [
    "----\n",
    "\n",
    "## 15. Explain the Code"
   ]
  },
  {
   "cell_type": "code",
   "execution_count": null,
   "id": "dd82d619",
   "metadata": {},
   "outputs": [],
   "source": [
    "a, b = (10, 20)\n",
    "c, d = 10, 20"
   ]
  },
  {
   "cell_type": "code",
   "execution_count": null,
   "id": "e0ab514f",
   "metadata": {},
   "outputs": [],
   "source": [
    "a, b, c, d"
   ]
  },
  {
   "cell_type": "markdown",
   "id": "f560c841",
   "metadata": {},
   "source": [
    "----\n",
    "\n",
    "## 16. Create a function that return first name and last name by given fullname"
   ]
  },
  {
   "cell_type": "markdown",
   "metadata": {},
   "source": [
    "### Ans"
   ]
  },
  {
   "cell_type": "code",
   "execution_count": null,
   "id": "8cb728d6",
   "metadata": {},
   "outputs": [],
   "source": [
    "def first_last_name(fullname):\n",
    "    fullname = fullname.split(\" \")\n",
    "    first_name = fullname[0]\n",
    "    if len(fullname) > 1:\n",
    "        last_name = fullname[1]\n",
    "    last_name = None\n",
    "    return first_name, last_name"
   ]
  },
  {
   "cell_type": "code",
   "execution_count": null,
   "id": "a87d5451",
   "metadata": {},
   "outputs": [],
   "source": [
    "first_last_name(\"Prabhu\")"
   ]
  },
  {
   "cell_type": "markdown",
   "id": "93209ce0",
   "metadata": {},
   "source": [
    "-----\n",
    "\n",
    "## 17. Explain the code"
   ]
  },
  {
   "cell_type": "code",
   "execution_count": null,
   "id": "b057150e",
   "metadata": {},
   "outputs": [],
   "source": [
    "def calculate(fn, a, b):\n",
    "    return fn(a, b)\n",
    "\n",
    "def add(a, b):\n",
    "    return a + b\n",
    "\n",
    "def sub(a, b):\n",
    "    return a - b\n",
    "\n",
    "print(calculate(add, 10, 20))\n",
    "print(calculate(sub, 10, 20))"
   ]
  },
  {
   "cell_type": "markdown",
   "metadata": {},
   "source": [
    "### Ans"
   ]
  },
  {
   "cell_type": "markdown",
   "id": "6fa0b5c1",
   "metadata": {},
   "source": [
    "----\n",
    "\n",
    "## 18. What is first-class functions?"
   ]
  },
  {
   "cell_type": "markdown",
   "metadata": {},
   "source": [
    "### Ans"
   ]
  },
  {
   "cell_type": "markdown",
   "id": "4c6b8753",
   "metadata": {},
   "source": [
    "----\n",
    "\n",
    "## 19. Solve this `UnboundLocalError` error :"
   ]
  },
  {
   "cell_type": "code",
   "execution_count": null,
   "id": "5837275e",
   "metadata": {},
   "outputs": [],
   "source": [
    "interest = 3\n",
    "\n",
    "def emi(amount):\n",
    "    if interest > 1:\n",
    "        interest = 1\n",
    "    return amount * (interest/100)\n",
    "\n",
    "emi(1000)"
   ]
  },
  {
   "cell_type": "markdown",
   "metadata": {},
   "source": [
    "### Ans"
   ]
  },
  {
   "cell_type": "code",
   "execution_count": null,
   "id": "5a63a05b",
   "metadata": {},
   "outputs": [],
   "source": [
    "interest = 3\n",
    "\n",
    "def emi(amount):\n",
    "    global interest\n",
    "    if interest > 1:\n",
    "        interest = 1\n",
    "    return amount * (interest/100)\n",
    "\n",
    "emi(1000)"
   ]
  },
  {
   "cell_type": "markdown",
   "id": "e8216ef5",
   "metadata": {},
   "source": [
    "----\n",
    "\n",
    "## 20. Explain Recursion with Example?"
   ]
  },
  {
   "cell_type": "markdown",
   "metadata": {},
   "source": [
    "### Ans"
   ]
  },
  {
   "cell_type": "code",
   "execution_count": null,
   "id": "66171850",
   "metadata": {},
   "outputs": [],
   "source": [
    "def print_char(name):\n",
    "    print(name)\n",
    "    if len(name) == 0:\n",
    "        return\n",
    "    return print_char(name[1:])"
   ]
  },
  {
   "cell_type": "markdown",
   "id": "40dad40c",
   "metadata": {},
   "source": [
    "----\n",
    "\n",
    "## 21. Is lambdas statement or expression?"
   ]
  },
  {
   "cell_type": "code",
   "execution_count": null,
   "id": "aa7c99f0",
   "metadata": {},
   "outputs": [],
   "source": []
  },
  {
   "cell_type": "markdown",
   "metadata": {},
   "source": [
    "----\n",
    "\n",
    "# Project - Calculator"
   ]
  },
  {
   "cell_type": "markdown",
   "metadata": {},
   "source": [
    "### if the user enter `add 10 20` the output should `10 + 20 = 30`\n",
    "### input `sub 10 20` , output `10 - 20 = -10`\n",
    "### input `mul 10 20` , output `10 * 20 = 200`\n",
    "### input `div 10 20` , output `10 / 20 = 0.5`\n",
    "### if user enter `calculate 10 20`, output should be\n",
    "### `10 + 20 = 30`\n",
    "### `10 - 20 = -10`\n",
    "### `10 * 20 = 200`\n",
    "### `10 / 20 = 0.5`"
   ]
  }
 ],
 "metadata": {
  "interpreter": {
   "hash": "63fd5069d213b44bf678585dea6b12cceca9941eaf7f819626cde1f2670de90d"
  },
  "kernelspec": {
   "display_name": "Python 3.9.6 64-bit",
   "name": "python3"
  },
  "language_info": {
   "codemirror_mode": {
    "name": "ipython",
    "version": 3
   },
   "file_extension": ".py",
   "mimetype": "text/x-python",
   "name": "python",
   "nbconvert_exporter": "python",
   "pygments_lexer": "ipython3",
   "version": "3.9.6"
  }
 },
 "nbformat": 4,
 "nbformat_minor": 5
}
