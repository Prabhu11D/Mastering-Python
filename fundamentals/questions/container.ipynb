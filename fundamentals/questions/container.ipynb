{
 "cells": [
  {
   "cell_type": "markdown",
   "id": "3b44bac9",
   "metadata": {},
   "source": [
    "# Container Data Types\n"
   ]
  },
  {
   "cell_type": "markdown",
   "id": "c70714b0",
   "metadata": {},
   "source": [
    "## 1. What is Container Data Type?\n"
   ]
  },
  {
   "cell_type": "markdown",
   "id": "a84537a5",
   "metadata": {},
   "source": [
    "### Ans\n",
    "\n",
    "this data types hold the other data types or variables, it can hold int, str, float, bool, and even other container\n"
   ]
  },
  {
   "cell_type": "markdown",
   "id": "baf667df",
   "metadata": {},
   "source": [
    "---\n",
    "\n",
    "### 2. list all the container data types?\n"
   ]
  },
  {
   "cell_type": "markdown",
   "id": "bbe39be2",
   "metadata": {},
   "source": [
    "#### Ans\n",
    "\n",
    "- list\n",
    "- tuple\n",
    "- set\n",
    "- frozenset\n",
    "- dict\n"
   ]
  },
  {
   "cell_type": "markdown",
   "id": "f517a243",
   "metadata": {},
   "source": [
    "---\n",
    "\n",
    "## 3. List Immutable Data Types?\n"
   ]
  },
  {
   "cell_type": "markdown",
   "id": "57fb4bd3",
   "metadata": {},
   "source": [
    "### Ans\n",
    "\n",
    "- str\n",
    "- int\n",
    "- float\n",
    "- bool\n"
   ]
  },
  {
   "cell_type": "markdown",
   "id": "938740bc",
   "metadata": {},
   "source": [
    "---\n",
    "\n",
    "## 4. Create a list of any value ?\n"
   ]
  },
  {
   "cell_type": "markdown",
   "id": "74f502a5",
   "metadata": {},
   "source": [
    "### Ans\n"
   ]
  },
  {
   "cell_type": "code",
   "execution_count": null,
   "id": "ba670066",
   "metadata": {},
   "outputs": [],
   "source": [
    "name = \"PRABHU\"\n"
   ]
  },
  {
   "cell_type": "markdown",
   "id": "19813196",
   "metadata": {},
   "source": [
    "---\n",
    "\n",
    "## 5. Add 10 to existing list without using append()\n"
   ]
  },
  {
   "cell_type": "code",
   "execution_count": null,
   "id": "69ae794d",
   "metadata": {},
   "outputs": [],
   "source": [
    "a = [1,2,3]"
   ]
  },
  {
   "cell_type": "markdown",
   "id": "92c14a95",
   "metadata": {},
   "source": [
    "### Ans\n"
   ]
  },
  {
   "cell_type": "code",
   "execution_count": null,
   "id": "4414bae7",
   "metadata": {},
   "outputs": [],
   "source": [
    "a += [10]\n",
    "a"
   ]
  },
  {
   "cell_type": "code",
   "execution_count": null,
   "id": "3ab45451",
   "metadata": {},
   "outputs": [],
   "source": [
    "name = \"PRABHU\"\n"
   ]
  },
  {
   "cell_type": "markdown",
   "id": "cb214238",
   "metadata": {},
   "source": [
    "---\n",
    "\n",
    "## 6. What is difference between append() and extend()\n"
   ]
  },
  {
   "cell_type": "markdown",
   "id": "fd6615d8",
   "metadata": {},
   "source": [
    "### Ans\n"
   ]
  },
  {
   "cell_type": "markdown",
   "id": "19454345",
   "metadata": {},
   "source": [
    "append -> adding a single primitive data type to existing list\n",
    "extend -> extending an existing list with new list\n"
   ]
  },
  {
   "cell_type": "code",
   "execution_count": null,
   "id": "c21d3695",
   "metadata": {},
   "outputs": [],
   "source": [
    "name = \"PRABHU\"\n",
    "app.append(4)\n",
    "print(\"Appended List\", app)\n",
    "\n",
    "ext = [-3, -2, -1, 0]\n",
    "ext.extend(app)\n",
    "print(\"Extended List\", ext)"
   ]
  },
  {
   "cell_type": "markdown",
   "id": "cbc5d37a",
   "metadata": {},
   "source": [
    "---\n",
    "\n",
    "## 7. Create a list that contain n times 1, assume n = 1000\n"
   ]
  },
  {
   "cell_type": "markdown",
   "id": "ca202bfb",
   "metadata": {},
   "source": [
    "### Ans\n"
   ]
  },
  {
   "cell_type": "code",
   "execution_count": null,
   "id": "af0a2282",
   "metadata": {},
   "outputs": [],
   "source": [
    "l = [1] * 1000"
   ]
  },
  {
   "cell_type": "markdown",
   "id": "3820d8a2",
   "metadata": {},
   "source": [
    "---\n",
    "\n",
    "## 8. Store Individual Character in list from given String\n"
   ]
  },
  {
   "cell_type": "code",
   "execution_count": null,
   "id": "1b2ecff3",
   "metadata": {},
   "outputs": [],
   "source": [
    "name = \"PRABHU\""
   ]
  },
  {
   "cell_type": "markdown",
   "id": "19430d5e",
   "metadata": {},
   "source": [
    "### Ans\n"
   ]
  },
  {
   "cell_type": "code",
   "execution_count": null,
   "id": "3f7460af",
   "metadata": {},
   "outputs": [],
   "source": [
    "list(name)"
   ]
  },
  {
   "cell_type": "markdown",
   "id": "e7747693",
   "metadata": {},
   "source": [
    "---\n",
    "\n",
    "## 9. Explain this code\n"
   ]
  },
  {
   "cell_type": "code",
   "execution_count": null,
   "id": "403bb820",
   "metadata": {},
   "outputs": [],
   "source": [
    "x = [1,2,3]\n",
    "x.append(x)\n",
    "print(x)\n",
    "print(x[3])"
   ]
  },
  {
   "cell_type": "markdown",
   "id": "440b6110",
   "metadata": {},
   "source": [
    "### Ans\n"
   ]
  },
  {
   "cell_type": "markdown",
   "id": "a76ed0ab",
   "metadata": {},
   "source": [
    "---\n",
    "\n",
    "## 10. What is Tuple\n"
   ]
  },
  {
   "cell_type": "markdown",
   "id": "3505967e",
   "metadata": {},
   "source": [
    "### Ans\n"
   ]
  },
  {
   "cell_type": "markdown",
   "id": "79c39daa",
   "metadata": {},
   "source": [
    "immutable list is called tuple.\n"
   ]
  },
  {
   "cell_type": "markdown",
   "id": "8c1d6561",
   "metadata": {},
   "source": [
    "---\n",
    "\n",
    "## 11. Is this tuple\n"
   ]
  },
  {
   "cell_type": "code",
   "execution_count": null,
   "id": "094d4f1d",
   "metadata": {},
   "outputs": [],
   "source": [
    "a = (10)"
   ]
  },
  {
   "cell_type": "markdown",
   "id": "afebdca5",
   "metadata": {},
   "source": [
    "### Ans\n"
   ]
  },
  {
   "cell_type": "markdown",
   "id": "49e7f9ba",
   "metadata": {},
   "source": [
    "No, it is integer, tuple is created by comma, paranthesis just only for grouping and readable purpose\n",
    "\n",
    "example\n"
   ]
  },
  {
   "cell_type": "code",
   "execution_count": null,
   "id": "81b5f6be",
   "metadata": {},
   "outputs": [],
   "source": [
    "a = 10,\n",
    "b = 20, 30\n",
    "\n",
    "print(type(a))\n",
    "print(type(b))"
   ]
  },
  {
   "cell_type": "markdown",
   "id": "d9b37549",
   "metadata": {},
   "source": [
    "---\n",
    "\n",
    "## 12. How to make Tuple from list\n"
   ]
  },
  {
   "cell_type": "markdown",
   "id": "a9e0a98a",
   "metadata": {},
   "source": [
    "### Ans\n"
   ]
  },
  {
   "cell_type": "code",
   "execution_count": null,
   "id": "dde7063e",
   "metadata": {},
   "outputs": [],
   "source": [
    "l = [1,2,3]\n",
    "t = tuple(l)"
   ]
  },
  {
   "cell_type": "markdown",
   "id": "80aca07c",
   "metadata": {},
   "source": [
    "---\n",
    "\n",
    "## 13. Can we mutate the mutable object in immutable type (tuple) ?\n"
   ]
  },
  {
   "cell_type": "markdown",
   "id": "a975b48b",
   "metadata": {},
   "source": [
    "### Ans\n"
   ]
  },
  {
   "cell_type": "code",
   "execution_count": null,
   "id": "49917602",
   "metadata": {},
   "outputs": [],
   "source": [
    "tup = (1,2,3,[1,2,3])\n",
    "tup[3].append(\"Mutated\")"
   ]
  },
  {
   "cell_type": "code",
   "execution_count": null,
   "id": "c6b30d2f",
   "metadata": {},
   "outputs": [],
   "source": [
    "tup"
   ]
  },
  {
   "cell_type": "markdown",
   "id": "f33b451f",
   "metadata": {},
   "source": [
    "---\n",
    "\n",
    "## 14. Explain the code, string set\n"
   ]
  },
  {
   "cell_type": "code",
   "execution_count": null,
   "id": "fe1987ec",
   "metadata": {},
   "outputs": [],
   "source": [
    "set(\"PRABHU\")"
   ]
  },
  {
   "cell_type": "markdown",
   "id": "7cf435d1",
   "metadata": {},
   "source": [
    "---\n",
    "\n",
    "## 15. Remove the Duplicates in list using set\n"
   ]
  },
  {
   "cell_type": "markdown",
   "id": "6323a311",
   "metadata": {},
   "source": [
    "### Ans\n"
   ]
  },
  {
   "cell_type": "code",
   "execution_count": null,
   "id": "e0ebf67a",
   "metadata": {},
   "outputs": [],
   "source": [
    "num = [1,2,4,1,2,5,6,7,3,4,6]\n",
    "num = list(set(num))\n",
    "print(num)"
   ]
  },
  {
   "cell_type": "markdown",
   "id": "7231f7aa",
   "metadata": {},
   "source": [
    "---\n",
    "\n",
    "## 16. What is dictionary\n"
   ]
  },
  {
   "cell_type": "markdown",
   "id": "09cea087",
   "metadata": {},
   "source": [
    "### Ans\n"
   ]
  },
  {
   "cell_type": "markdown",
   "id": "92c4094c",
   "metadata": {},
   "source": [
    "---\n",
    "\n",
    "## 17. Which data type is used like lookup table?\n"
   ]
  },
  {
   "cell_type": "markdown",
   "id": "65e89c41",
   "metadata": {},
   "source": [
    "### Ans\n"
   ]
  },
  {
   "cell_type": "markdown",
   "id": "a2222c2f",
   "metadata": {},
   "source": [
    "---\n",
    "\n",
    "## 18. Can dict have list as key ?\n"
   ]
  },
  {
   "cell_type": "markdown",
   "id": "ada4aa99",
   "metadata": {},
   "source": [
    "### Ans\n"
   ]
  },
  {
   "cell_type": "markdown",
   "id": "26046ebd",
   "metadata": {},
   "source": [
    "---\n",
    "\n",
    "## 19. Can dict have tuple as key ?\n"
   ]
  },
  {
   "cell_type": "markdown",
   "id": "b1bbe4bd",
   "metadata": {},
   "source": [
    "### Ans\n"
   ]
  },
  {
   "cell_type": "markdown",
   "id": "d544e1a4",
   "metadata": {},
   "source": [
    "---\n",
    "\n",
    "## 20. Explain the code\n"
   ]
  },
  {
   "cell_type": "code",
   "execution_count": null,
   "id": "188c770e",
   "metadata": {},
   "outputs": [],
   "source": [
    "d = {}\n",
    "d[\"d\"] = d\n",
    "print(d)\n",
    "print(d[\"d\"])\n",
    "print(d[\"d\"][\"d\"])\n",
    "print(d[\"d\"][\"d\"][\"d\"])\n",
    "print(d[\"d\"][\"d\"][\"d\"])"
   ]
  },
  {
   "cell_type": "markdown",
   "id": "47f481ef",
   "metadata": {},
   "source": [
    "### Ans\n"
   ]
  },
  {
   "cell_type": "markdown",
   "id": "6c562930",
   "metadata": {},
   "source": [
    "---\n",
    "\n",
    "## 21. Create a empty set\n"
   ]
  },
  {
   "cell_type": "markdown",
   "id": "faa2f042",
   "metadata": {},
   "source": [
    "### Ans\n"
   ]
  },
  {
   "cell_type": "code",
   "execution_count": null,
   "id": "3cbd4bd6",
   "metadata": {},
   "outputs": [],
   "source": [
    "S = set()"
   ]
  },
  {
   "cell_type": "markdown",
   "id": "4dc52d78",
   "metadata": {},
   "source": [
    "---\n",
    "\n",
    "## 22. What is packing and unpacking?\n"
   ]
  },
  {
   "cell_type": "markdown",
   "id": "edf9bf3c",
   "metadata": {},
   "source": [
    "### Ans\n"
   ]
  },
  {
   "cell_type": "code",
   "execution_count": null,
   "id": "f2e198d3",
   "metadata": {},
   "outputs": [],
   "source": [
    "packing = 1, 2, 3\n",
    "a, b, c = packing\n",
    "\n",
    "print(\"Packing\", packing)\n",
    "print(\"Unpacked\", a, b, c)"
   ]
  }
 ],
 "metadata": {
  "interpreter": {
   "hash": "63fd5069d213b44bf678585dea6b12cceca9941eaf7f819626cde1f2670de90d"
  },
  "kernelspec": {
   "display_name": "Python 3.9.6 64-bit",
   "name": "python3"
  },
  "language_info": {
   "codemirror_mode": {
    "name": "ipython",
    "version": 3
   },
   "file_extension": ".py",
   "mimetype": "text/x-python",
   "name": "python",
   "nbconvert_exporter": "python",
   "pygments_lexer": "ipython3",
   "version": "3.9.6"
  }
 },
 "nbformat": 4,
 "nbformat_minor": 5
}
