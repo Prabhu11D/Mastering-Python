{
 "cells": [
  {
   "cell_type": "markdown",
   "id": "c8abc6a7",
   "metadata": {},
   "source": [
    "# String"
   ]
  },
  {
   "cell_type": "markdown",
   "id": "eb5b8a18",
   "metadata": {},
   "source": [
    "## 1. We all know single character takes 1 byte of memory, then why empty string (**\"\"**) takes 49 bytes ?"
   ]
  },
  {
   "cell_type": "code",
   "execution_count": null,
   "id": "d7f1fa13",
   "metadata": {},
   "outputs": [],
   "source": [
    "\"\".__sizeof__()"
   ]
  },
  {
   "cell_type": "markdown",
   "id": "433dbc2e",
   "metadata": {},
   "source": [
    "### Ans"
   ]
  },
  {
   "cell_type": "markdown",
   "id": "4a7dea4f",
   "metadata": {},
   "source": [
    "because in python every thing is object, string is also a object. therefore an empty string object takes 49 bytes."
   ]
  },
  {
   "cell_type": "code",
   "execution_count": null,
   "id": "93cfc21f",
   "metadata": {},
   "outputs": [],
   "source": [
    "\"Prabhu\".__sizeof__()"
   ]
  },
  {
   "cell_type": "markdown",
   "id": "2d7c0e6d",
   "metadata": {},
   "source": [
    "   \"Prabhu\" takes 6 bytes and object takes 49 bytes. totally 55 bytes"
   ]
  },
  {
   "cell_type": "markdown",
   "id": "d316e623",
   "metadata": {},
   "source": [
    "----\n",
    "\n",
    "## 2. What is difference between character and string"
   ]
  },
  {
   "cell_type": "markdown",
   "id": "f6a00e63",
   "metadata": {},
   "source": [
    "### Ans"
   ]
  },
  {
   "cell_type": "markdown",
   "id": "27d8c2e8",
   "metadata": {},
   "source": [
    "----\n",
    "\n",
    "## 3. Which encoding is used for String, ASCII or Unicode ? and Why ?"
   ]
  },
  {
   "cell_type": "markdown",
   "id": "55456bd5",
   "metadata": {},
   "source": [
    "### Ans"
   ]
  },
  {
   "cell_type": "markdown",
   "id": "9549bbda",
   "metadata": {},
   "source": [
    "----\n",
    "\n",
    "## 4. Reverse a String using Slice"
   ]
  },
  {
   "cell_type": "markdown",
   "id": "d131d70f",
   "metadata": {},
   "source": [
    "### Ans"
   ]
  },
  {
   "cell_type": "code",
   "execution_count": null,
   "id": "224c8506",
   "metadata": {},
   "outputs": [],
   "source": [
    "\"Hello World\"[::-1]"
   ]
  },
  {
   "cell_type": "markdown",
   "id": "6e8fa856",
   "metadata": {},
   "source": [
    "----\n",
    "\n",
    "## 5. Print * for n times, let assume n = 100"
   ]
  },
  {
   "cell_type": "markdown",
   "id": "9690ad78",
   "metadata": {},
   "source": [
    "### Ans"
   ]
  },
  {
   "cell_type": "code",
   "execution_count": null,
   "id": "27e95f07",
   "metadata": {},
   "outputs": [],
   "source": [
    "\"*\" * 100"
   ]
  },
  {
   "cell_type": "markdown",
   "id": "192b352d",
   "metadata": {},
   "source": [
    "----\n",
    "\n",
    "## 6. What is the output for below code in REPL environment ?"
   ]
  },
  {
   "cell_type": "code",
   "execution_count": null,
   "id": "58a327c8",
   "metadata": {},
   "outputs": [],
   "source": [
    "print(\"Hello\\nWorld\")\n",
    "\"Hello\\nWorld\""
   ]
  },
  {
   "cell_type": "markdown",
   "id": "29455389",
   "metadata": {},
   "source": [
    "### Ans"
   ]
  },
  {
   "cell_type": "markdown",
   "id": "ce38c9a4",
   "metadata": {},
   "source": [
    "----\n",
    "\n",
    "## 7. print this word **\"Hello World, I'm Prabhu\"**"
   ]
  },
  {
   "cell_type": "markdown",
   "id": "89c18105",
   "metadata": {},
   "source": [
    "### Ans"
   ]
  },
  {
   "cell_type": "code",
   "execution_count": null,
   "id": "fbb1bb63",
   "metadata": {},
   "outputs": [],
   "source": [
    "print(\"\\\"Hello World, I'm Prabhu\\\"\")"
   ]
  },
  {
   "cell_type": "code",
   "execution_count": null,
   "id": "e6567ed8",
   "metadata": {},
   "outputs": [],
   "source": [
    "print(\"\"\" \"Hello World, I'm Prabhu\" \"\"\")"
   ]
  },
  {
   "cell_type": "code",
   "execution_count": null,
   "id": "8e92189a",
   "metadata": {},
   "outputs": [],
   "source": [
    "print('\"Hello World, I\\'m Prabhu\"')"
   ]
  },
  {
   "cell_type": "markdown",
   "id": "a012d45d",
   "metadata": {},
   "source": [
    "----\n",
    "\n",
    "## 8. print this symbol **/^\\\\**"
   ]
  },
  {
   "cell_type": "markdown",
   "id": "7b172335",
   "metadata": {},
   "source": [
    "### Ans"
   ]
  },
  {
   "cell_type": "code",
   "execution_count": null,
   "id": "e746729f",
   "metadata": {},
   "outputs": [],
   "source": [
    "print(\"/^\\\\\")"
   ]
  },
  {
   "cell_type": "markdown",
   "id": "560bc974",
   "metadata": {},
   "source": [
    "----\n",
    "\n",
    "## 9. Print this word : \"I am Newline \\n But I am not printed because of raw string\""
   ]
  },
  {
   "cell_type": "markdown",
   "id": "fdaa7730",
   "metadata": {},
   "source": [
    "### Ans"
   ]
  },
  {
   "cell_type": "code",
   "execution_count": null,
   "id": "c60a0223",
   "metadata": {},
   "outputs": [],
   "source": [
    "print(r'\"I am Newline \\n But I am not printed because of raw string\"')"
   ]
  },
  {
   "cell_type": "markdown",
   "id": "855f8500",
   "metadata": {},
   "source": [
    "----\n",
    "\n",
    "## 10. Print any String in Byte Format"
   ]
  },
  {
   "cell_type": "markdown",
   "id": "c90ed4c9",
   "metadata": {},
   "source": [
    "### Ans"
   ]
  },
  {
   "cell_type": "code",
   "execution_count": null,
   "id": "2b9533d3",
   "metadata": {},
   "outputs": [],
   "source": [
    "print(b\"ABC\")"
   ]
  },
  {
   "cell_type": "markdown",
   "id": "db9c11fb",
   "metadata": {},
   "source": [
    "----\n",
    "\n",
    "## 11. What is difference between normal string and byte string"
   ]
  },
  {
   "cell_type": "code",
   "execution_count": null,
   "id": "a69accfe",
   "metadata": {},
   "outputs": [],
   "source": [
    "a = \"A\"\n",
    "ba = b'A'\n",
    "print(a, a.__sizeof__())\n",
    "print(ba, ba.__sizeof__())"
   ]
  },
  {
   "cell_type": "markdown",
   "id": "14185640",
   "metadata": {},
   "source": [
    "### Ans\n",
    "\n",
    "In order to Store a String in memory, first encoding is done. After encoding we get Bytes String. Before Encoding size of 'A' is 50, After enconding 'A' the size will 34"
   ]
  },
  {
   "cell_type": "markdown",
   "id": "11e604af",
   "metadata": {},
   "source": [
    "----\n",
    "\n",
    "## 12. How to Print a Paragraph"
   ]
  },
  {
   "cell_type": "code",
   "execution_count": null,
   "id": "e49133b2",
   "metadata": {},
   "outputs": [],
   "source": [
    "print(\"\"\"\n",
    "...\n",
    "...\n",
    "...\n",
    "\"\"\")"
   ]
  },
  {
   "cell_type": "markdown",
   "id": "ab155960",
   "metadata": {},
   "source": [
    "----\n",
    "\n",
    "## 13. Remove the unwanted whitespace in beginning and end"
   ]
  },
  {
   "cell_type": "code",
   "execution_count": null,
   "id": "40b123fb",
   "metadata": {},
   "outputs": [],
   "source": [
    "print(\"        hello world        \")"
   ]
  },
  {
   "cell_type": "markdown",
   "id": "6a8f53b1",
   "metadata": {},
   "source": [
    "### Ans"
   ]
  },
  {
   "cell_type": "code",
   "execution_count": null,
   "id": "d09816c1",
   "metadata": {},
   "outputs": [],
   "source": [
    "print(\"   hello world    \".strip())"
   ]
  },
  {
   "cell_type": "markdown",
   "id": "0eea7315",
   "metadata": {},
   "source": [
    "----\n",
    "\n",
    "## 14. Print it in UpperCase"
   ]
  },
  {
   "cell_type": "code",
   "execution_count": null,
   "id": "8b9d5f6e",
   "metadata": {},
   "outputs": [],
   "source": [
    "name = \"Prabhu\""
   ]
  },
  {
   "cell_type": "markdown",
   "id": "c860e1f0",
   "metadata": {},
   "source": [
    "### Ans"
   ]
  },
  {
   "cell_type": "code",
   "execution_count": null,
   "id": "352af7ac",
   "metadata": {},
   "outputs": [],
   "source": [
    "name.upper()"
   ]
  },
  {
   "cell_type": "markdown",
   "id": "df2db80b",
   "metadata": {},
   "source": [
    "----\n",
    "\n",
    "## 15. Welcome Message"
   ]
  },
  {
   "cell_type": "markdown",
   "id": "c3ed5f03",
   "metadata": {},
   "source": [
    "use employee and company as variable and print it like \"Hi Employee_name, Welcome to Company_name\""
   ]
  },
  {
   "cell_type": "code",
   "execution_count": null,
   "id": "2f52a065",
   "metadata": {},
   "outputs": [],
   "source": [
    "employee = \"Reshma\"\n",
    "company = \"OneData\""
   ]
  },
  {
   "cell_type": "markdown",
   "id": "07ae3e43",
   "metadata": {},
   "source": [
    "### Ans"
   ]
  },
  {
   "cell_type": "code",
   "execution_count": null,
   "id": "ee38e27d",
   "metadata": {},
   "outputs": [],
   "source": [
    "print(\"Hi \"+ employee + \", Welcome to \" + company)"
   ]
  },
  {
   "cell_type": "code",
   "execution_count": null,
   "id": "0de960cc",
   "metadata": {},
   "outputs": [],
   "source": [
    "print(\"Hi {0}, Welcome to {1}\".format(employee, company))"
   ]
  },
  {
   "cell_type": "code",
   "execution_count": null,
   "id": "9794390e",
   "metadata": {},
   "outputs": [],
   "source": [
    "print(f\"Hi {employee}, Welcome to {company}\")"
   ]
  },
  {
   "cell_type": "markdown",
   "id": "beb0186d",
   "metadata": {},
   "source": [
    "----\n",
    "\n",
    "# Project - Format the SQL statement"
   ]
  },
  {
   "cell_type": "markdown",
   "id": "78c46c06",
   "metadata": {},
   "source": [
    "### keyword must be uppercase, other word must be lowercase."
   ]
  },
  {
   "cell_type": "markdown",
   "id": "f1a3c36d",
   "metadata": {},
   "source": [
    "### Input\n",
    "```sql\n",
    "select product_name, price from PRODUCT where PRICE <= 10000 limit 10;\n",
    "```"
   ]
  },
  {
   "cell_type": "markdown",
   "id": "d6920a0e",
   "metadata": {},
   "source": [
    "### Output\n",
    "```sql\n",
    "SELECT product_name, price FROM product WHERE price <= 10000 LIMIT 10;\n",
    "```"
   ]
  },
  {
   "cell_type": "code",
   "execution_count": null,
   "id": "7bf5ef39",
   "metadata": {},
   "outputs": [],
   "source": [
    "unformatted_sql = \"select product_name, price from PRODUCT where PRICE <= 10000 limit 10;\"\n",
    "formated_sql = \"\"\n",
    "\n",
    "keywords = [\"SELECT\", \"FROM\", \"WHERE\", \"LIMIT\", \"JOIN\"]\n",
    "\n",
    "words = unformatted_sql.split(\" \")\n",
    "\n",
    "for word in words:\n",
    "  if word.upper() in keywords:\n",
    "    formated_sql += word.upper() + \" \"\n",
    "  else:\n",
    "    formated_sql += word.lower() + \" \"\n",
    "\n",
    "print(formated_sql)"
   ]
  },
  {
   "cell_type": "code",
   "execution_count": null,
   "id": "82455c6b",
   "metadata": {},
   "outputs": [],
   "source": []
  }
 ],
 "metadata": {
  "interpreter": {
   "hash": "63fd5069d213b44bf678585dea6b12cceca9941eaf7f819626cde1f2670de90d"
  },
  "kernelspec": {
   "display_name": "Python 3.9.6 64-bit",
   "name": "python3"
  },
  "language_info": {
   "codemirror_mode": {
    "name": "ipython",
    "version": 3
   },
   "file_extension": ".py",
   "mimetype": "text/x-python",
   "name": "python",
   "nbconvert_exporter": "python",
   "pygments_lexer": "ipython3",
   "version": "3.9.6"
  }
 },
 "nbformat": 4,
 "nbformat_minor": 5
}
