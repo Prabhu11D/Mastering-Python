{
 "cells": [
  {
   "cell_type": "markdown",
   "id": "872427dc",
   "metadata": {},
   "source": [
    "# Variables"
   ]
  },
  {
   "cell_type": "markdown",
   "id": "1f777f86",
   "metadata": {},
   "source": [
    "## 1. Why we use Variables"
   ]
  },
  {
   "cell_type": "markdown",
   "metadata": {},
   "source": [
    "### Ans"
   ]
  },
  {
   "cell_type": "markdown",
   "id": "b05067d5",
   "metadata": {},
   "source": [
    "----\n",
    "\n",
    "## 2. Why variables can't start with number?"
   ]
  },
  {
   "cell_type": "markdown",
   "metadata": {},
   "source": [
    "### Ans"
   ]
  },
  {
   "cell_type": "markdown",
   "id": "04b15c37",
   "metadata": {},
   "source": [
    "----\n",
    "\n",
    "## 3. List Special Variables"
   ]
  },
  {
   "cell_type": "markdown",
   "metadata": {},
   "source": [
    "### Ans"
   ]
  },
  {
   "cell_type": "code",
   "execution_count": null,
   "id": "f3435ab6",
   "metadata": {},
   "outputs": [],
   "source": [
    "None\n",
    "True\n",
    "False\n",
    "NotImplemented"
   ]
  },
  {
   "cell_type": "markdown",
   "id": "3f5a1f71",
   "metadata": {},
   "source": [
    "-----\n",
    "\n",
    "## 4. Why special variables are called Singletons"
   ]
  },
  {
   "cell_type": "markdown",
   "metadata": {},
   "source": [
    "### Ans"
   ]
  },
  {
   "cell_type": "markdown",
   "id": "2e124644",
   "metadata": {},
   "source": [
    "because, special variables only load one time in memory when python interpreter start."
   ]
  },
  {
   "cell_type": "markdown",
   "id": "7aac6f4f",
   "metadata": {},
   "source": [
    "----\n",
    "\n",
    "## 5. is None is Zero ?"
   ]
  },
  {
   "cell_type": "markdown",
   "id": "f1b7ef36",
   "metadata": {},
   "source": [
    "### Ans\n",
    "\n",
    "None is not a zero and not empty string. None represents no value given to a variable or no behavior was defined"
   ]
  },
  {
   "cell_type": "markdown",
   "id": "cc064fbf",
   "metadata": {},
   "source": [
    "----\n",
    "\n",
    "## 6. What is NotImplemented ?"
   ]
  },
  {
   "cell_type": "markdown",
   "metadata": {},
   "source": [
    "### Ans"
   ]
  },
  {
   "cell_type": "markdown",
   "id": "d46db8a0",
   "metadata": {},
   "source": [
    "----\n",
    "\n",
    "## 7. What is Namespace?"
   ]
  },
  {
   "cell_type": "markdown",
   "metadata": {},
   "source": [
    "### Ans"
   ]
  },
  {
   "cell_type": "markdown",
   "id": "1bedd97c",
   "metadata": {},
   "source": [
    "----\n",
    "\n",
    "## 8. What is literal?"
   ]
  },
  {
   "cell_type": "markdown",
   "metadata": {},
   "source": [
    "### Ans"
   ]
  },
  {
   "cell_type": "markdown",
   "id": "fd55c68d",
   "metadata": {},
   "source": [
    "----\n",
    "\n",
    "## 9. Explain Variable Scope?"
   ]
  },
  {
   "cell_type": "markdown",
   "metadata": {},
   "source": [
    "### Ans"
   ]
  },
  {
   "cell_type": "markdown",
   "metadata": {},
   "source": [
    "----\n",
    "\n",
    "## 10. Explain the Code, how variables assigned?"
   ]
  },
  {
   "cell_type": "code",
   "execution_count": null,
   "metadata": {},
   "outputs": [],
   "source": [
    "a = 10\n",
    "b = 10\n",
    "a = \"Ten\"\n",
    "b = \"Ten\"\n",
    "a = b = None\n",
    "\n",
    "print(a, b)"
   ]
  },
  {
   "cell_type": "markdown",
   "metadata": {},
   "source": [
    "What happens to 10, \"Ten\", a, b. Explain the execution"
   ]
  },
  {
   "cell_type": "markdown",
   "metadata": {},
   "source": [
    "### Ans"
   ]
  }
 ],
 "metadata": {
  "interpreter": {
   "hash": "63fd5069d213b44bf678585dea6b12cceca9941eaf7f819626cde1f2670de90d"
  },
  "kernelspec": {
   "display_name": "Python 3.9.6 64-bit",
   "name": "python3"
  },
  "language_info": {
   "codemirror_mode": {
    "name": "ipython",
    "version": 3
   },
   "file_extension": ".py",
   "mimetype": "text/x-python",
   "name": "python",
   "nbconvert_exporter": "python",
   "pygments_lexer": "ipython3",
   "version": "3.9.6"
  }
 },
 "nbformat": 4,
 "nbformat_minor": 5
}
