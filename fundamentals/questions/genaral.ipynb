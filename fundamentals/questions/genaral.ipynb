{
 "cells": [
  {
   "cell_type": "markdown",
   "metadata": {},
   "source": [
    "# General"
   ]
  },
  {
   "cell_type": "markdown",
   "id": "72ee69e5",
   "metadata": {},
   "source": [
    "## 1. What is Pythonic?"
   ]
  },
  {
   "cell_type": "markdown",
   "metadata": {},
   "source": [
    "### Ans"
   ]
  },
  {
   "cell_type": "markdown",
   "id": "627d5678",
   "metadata": {},
   "source": [
    "## 2. Statement vs Expression ?"
   ]
  },
  {
   "cell_type": "markdown",
   "metadata": {},
   "source": [
    "### Ans"
   ]
  },
  {
   "cell_type": "markdown",
   "id": "1df7770c",
   "metadata": {},
   "source": [
    "## 3. What is Object Oriented Programming?"
   ]
  },
  {
   "cell_type": "markdown",
   "metadata": {},
   "source": [
    "### Ans"
   ]
  },
  {
   "cell_type": "markdown",
   "id": "58857caf",
   "metadata": {},
   "source": [
    "## 4. What is Source Code?"
   ]
  },
  {
   "cell_type": "markdown",
   "metadata": {},
   "source": [
    "### Ans"
   ]
  },
  {
   "cell_type": "markdown",
   "id": "07676d96",
   "metadata": {},
   "source": [
    "## 5. Is Python is slow? explain it."
   ]
  },
  {
   "cell_type": "markdown",
   "metadata": {},
   "source": [
    "### Ans"
   ]
  },
  {
   "cell_type": "markdown",
   "id": "c9c430f2",
   "metadata": {},
   "source": [
    "## 6. What is Dynamic Language?"
   ]
  },
  {
   "cell_type": "markdown",
   "metadata": {},
   "source": [
    "### Ans"
   ]
  },
  {
   "cell_type": "markdown",
   "id": "4eff2282",
   "metadata": {},
   "source": [
    "## 7. When Python was created?"
   ]
  },
  {
   "cell_type": "markdown",
   "metadata": {},
   "source": [
    "### Ans"
   ]
  },
  {
   "cell_type": "markdown",
   "id": "f15cbd35",
   "metadata": {},
   "source": [
    "## 8. Who Invented Python?"
   ]
  },
  {
   "cell_type": "markdown",
   "metadata": {},
   "source": [
    "### Ans"
   ]
  },
  {
   "cell_type": "markdown",
   "id": "646af9e8",
   "metadata": {},
   "source": [
    "## 9. Why he invented Python?"
   ]
  },
  {
   "cell_type": "markdown",
   "metadata": {},
   "source": [
    "### Ans"
   ]
  },
  {
   "cell_type": "markdown",
   "id": "5b6dba7e",
   "metadata": {},
   "source": [
    "## 10. Justify, Python is an easy language?"
   ]
  },
  {
   "cell_type": "markdown",
   "metadata": {},
   "source": [
    "### Ans"
   ]
  },
  {
   "cell_type": "markdown",
   "id": "416ecd79",
   "metadata": {},
   "source": [
    "## 11. What is Duck Typed?"
   ]
  },
  {
   "cell_type": "markdown",
   "metadata": {},
   "source": [
    "### Ans"
   ]
  }
 ],
 "metadata": {
  "kernelspec": {
   "display_name": "Python 3 (ipykernel)",
   "language": "python",
   "name": "python3"
  },
  "language_info": {
   "codemirror_mode": {
    "name": "ipython",
    "version": 3
   },
   "file_extension": ".py",
   "mimetype": "text/x-python",
   "name": "python",
   "nbconvert_exporter": "python",
   "pygments_lexer": "ipython3",
   "version": "3.9.6"
  }
 },
 "nbformat": 4,
 "nbformat_minor": 5
}
